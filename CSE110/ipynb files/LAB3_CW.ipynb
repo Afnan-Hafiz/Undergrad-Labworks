{
  "nbformat": 4,
  "nbformat_minor": 0,
  "metadata": {
    "colab": {
      "provenance": []
    },
    "kernelspec": {
      "name": "python3",
      "display_name": "Python 3"
    },
    "language_info": {
      "name": "python"
    }
  },
  "cells": [
    {
      "cell_type": "code",
      "execution_count": null,
      "metadata": {
        "colab": {
          "base_uri": "https://localhost:8080/"
        },
        "id": "dTN9nmZmT9Yv",
        "outputId": "32fad16c-3b03-49f3-cbcf-3a5c8b68c21d"
      },
      "outputs": [
        {
          "output_type": "stream",
          "name": "stdout",
          "text": [
            "18\n",
            "27\n",
            "36\n",
            "45\n",
            "54\n",
            "63\n"
          ]
        }
      ],
      "source": [
        "#Task-1\n",
        "for num in range(18,64,9):\n",
        "  print(num)"
      ]
    },
    {
      "cell_type": "code",
      "source": [
        "#Task-2\n",
        "sum=0\n",
        "n=int(input())\n",
        "for i in range(1,n+1):\n",
        "  if i%2==0:\n",
        "    sum-=(i**2)\n",
        "  else:\n",
        "    sum+=(i**2)\n",
        "print(sum)"
      ],
      "metadata": {
        "colab": {
          "base_uri": "https://localhost:8080/"
        },
        "id": "JWO8KZ5Ra-c_",
        "outputId": "731931a1-05eb-4c33-dc42-10cac5126504"
      },
      "execution_count": null,
      "outputs": [
        {
          "output_type": "stream",
          "name": "stdout",
          "text": [
            "10\n",
            "-55\n"
          ]
        }
      ]
    },
    {
      "cell_type": "code",
      "source": [
        "#Task-3\n",
        "num=int(input())\n",
        "while 0<num:\n",
        "  new=num%10\n",
        "  remainNum=num//10\n",
        "  num=remainNum\n",
        "  if num==0:\n",
        "    print(new)\n",
        "  else:\n",
        "    print(new,end=\",\")\n"
      ],
      "metadata": {
        "colab": {
          "base_uri": "https://localhost:8080/"
        },
        "id": "VezZYsj7mmd_",
        "outputId": "7c03fc22-13d2-4686-90e6-b25de4f02dbb"
      },
      "execution_count": null,
      "outputs": [
        {
          "output_type": "stream",
          "name": "stdout",
          "text": [
            "32768\n",
            "8,6,7,2,3\n"
          ]
        }
      ]
    },
    {
      "cell_type": "code",
      "source": [
        "#Task-4\n",
        "num=int(input())\n",
        "divisor=0\n",
        "count=1\n",
        "while count<=num:\n",
        "  if num%count==0:\n",
        "    print(count)\n",
        "    count+=1\n",
        "    divisor+=1\n",
        "  else:\n",
        "    count+=1\n",
        "print(\"Total\",divisor,\"divisors\")"
      ],
      "metadata": {
        "colab": {
          "base_uri": "https://localhost:8080/"
        },
        "id": "DMCAqHYEgXxF",
        "outputId": "2d20e181-529c-43bf-c64c-ed8764dbdad3"
      },
      "execution_count": null,
      "outputs": [
        {
          "output_type": "stream",
          "name": "stdout",
          "text": [
            "6\n",
            "1\n",
            "2\n",
            "3\n",
            "6\n",
            "Total 4 divisors\n"
          ]
        }
      ]
    },
    {
      "cell_type": "code",
      "source": [
        "#Task-5\n",
        "x=int(input(\"Row:\"))\n",
        "y=int(input(\"Column:\"))\n",
        "for i in range(1,x+1):\n",
        "  for j in range(1,y+1):\n",
        "    print(j, end=\"\")\n",
        "  print()"
      ],
      "metadata": {
        "colab": {
          "base_uri": "https://localhost:8080/"
        },
        "id": "8ZuV2zkKedIq",
        "outputId": "38f5cfce-50e8-40b3-eeed-6350e3aa5c67"
      },
      "execution_count": null,
      "outputs": [
        {
          "output_type": "stream",
          "name": "stdout",
          "text": [
            "Row:4\n",
            "Column:6\n",
            "123456\n",
            "123456\n",
            "123456\n",
            "123456\n"
          ]
        }
      ]
    },
    {
      "cell_type": "code",
      "source": [
        "#Evaluation-1\n",
        "str1=\"\"\n",
        "for i in range(18,64,9):\n",
        "  if i%2==0:\n",
        "    str1+=str(i)+\", \"\n",
        "  else:\n",
        "    str1+=str(i*-1)+\", \"\n",
        "print(str1[:-2])"
      ],
      "metadata": {
        "colab": {
          "base_uri": "https://localhost:8080/"
        },
        "id": "d8uEstDwiNY-",
        "outputId": "bb4ecaf3-34bb-45a2-c632-65948fbf712e"
      },
      "execution_count": null,
      "outputs": [
        {
          "output_type": "stream",
          "name": "stdout",
          "text": [
            "18, -27, 36, -45, 54, -63\n"
          ]
        }
      ]
    },
    {
      "cell_type": "code",
      "source": [
        "#Evaluation-2\n",
        "product=1\n",
        "for i in range(0,5):\n",
        "  num=int(input(\"Your number is:\"))\n",
        "  product*=num\n",
        "  print(product)"
      ],
      "metadata": {
        "colab": {
          "base_uri": "https://localhost:8080/"
        },
        "id": "wJFF3KgXjb7U",
        "outputId": "c6491a3d-df02-41d0-8e87-face63ad89fb"
      },
      "execution_count": null,
      "outputs": [
        {
          "output_type": "stream",
          "name": "stdout",
          "text": [
            "Your number is:-10\n",
            "-10\n",
            "Your number is:-2\n",
            "20\n",
            "Your number is:2\n",
            "40\n",
            "Your number is:3\n",
            "120\n",
            "Your number is:-1\n",
            "-120\n"
          ]
        }
      ]
    }
  ]
}