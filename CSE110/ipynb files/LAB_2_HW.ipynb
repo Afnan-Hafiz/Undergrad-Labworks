{
  "nbformat": 4,
  "nbformat_minor": 0,
  "metadata": {
    "colab": {
      "provenance": []
    },
    "kernelspec": {
      "name": "python3",
      "display_name": "Python 3"
    },
    "language_info": {
      "name": "python"
    }
  },
  "cells": [
    {
      "cell_type": "code",
      "source": [
        "#Home Task 1\n",
        "x=int(input(\"\"))\n",
        "y=int(input(\"\"))\n",
        "a=x-y\n",
        "b=y-x\n",
        "if x>y:\n",
        "  print(a)\n",
        "else:\n",
        "  print(b)"
      ],
      "metadata": {
        "colab": {
          "base_uri": "https://localhost:8080/"
        },
        "id": "ig1H9a_6W6Ar",
        "outputId": "2ec4e856-6242-4704-93ee-9ae130ee3e61"
      },
      "execution_count": null,
      "outputs": [
        {
          "output_type": "stream",
          "name": "stdout",
          "text": [
            "5\n",
            "5\n",
            "0\n"
          ]
        }
      ]
    },
    {
      "cell_type": "code",
      "source": [
        "#Home Task 2\n",
        "x=int(input(\"\"))\n",
        "if x%2==0 and x%5==0:\n",
        "  print(\"Multiple of 2 and 5 both\")\n",
        "elif x%2==0:\n",
        "  print(x)\n",
        "elif x%5==0:\n",
        "  print(x)\n",
        "else:\n",
        "  print(\"Not a multiple we want\")"
      ],
      "metadata": {
        "colab": {
          "base_uri": "https://localhost:8080/"
        },
        "id": "Cfb7IIfF5PJu",
        "outputId": "f7a26705-82e9-4dbc-bca8-e9de012de86f"
      },
      "execution_count": null,
      "outputs": [
        {
          "output_type": "stream",
          "name": "stdout",
          "text": [
            "17\n",
            "Not a multiple we want\n"
          ]
        }
      ]
    },
    {
      "cell_type": "code",
      "source": [
        "#Home Task 3\n",
        "s=int(input(\"\"))\n",
        "a=(3000-125*(s**2))\n",
        "b=(12000/(4+((s**2)/14900)))\n",
        "if s<100:\n",
        "  print(a)\n",
        "elif 100<=s:\n",
        "  print(b)"
      ],
      "metadata": {
        "colab": {
          "base_uri": "https://localhost:8080/"
        },
        "id": "QjHbhNwPcnuo",
        "outputId": "cd8b7090-e455-4940-a9a3-1f6d9947b107"
      },
      "execution_count": null,
      "outputs": [
        {
          "output_type": "stream",
          "name": "stdout",
          "text": [
            "3\n",
            "1875\n"
          ]
        }
      ]
    },
    {
      "cell_type": "code",
      "source": [
        "#Home Task 4\n",
        "time=int(input())\n",
        "if time<=24:\n",
        "  if 0<=time<=3 or 7<=time<=11 or 14<=time<=15 or 18==time or 21<=time<=23:\n",
        "    print(\"patience is virtue\")\n",
        "  if 4<=time<=6:\n",
        "    print(\"breakfast\")\n",
        "  if 12==time==13:\n",
        "    print(\"lunch\")\n",
        "  if 16==time==17:\n",
        "    print(\"snacks\")\n",
        "  if 19==time==20:\n",
        "    print(\"dinner\")\n",
        "  if time<0 or time==24:\n",
        "    print(\"wrong time\")\n",
        "else:\n",
        "  print(\"wrong time\")\n"
      ],
      "metadata": {
        "colab": {
          "base_uri": "https://localhost:8080/"
        },
        "id": "TrobOvXchk41",
        "outputId": "01386047-9d4e-4e93-f33c-9f4619b5d0f2"
      },
      "execution_count": null,
      "outputs": [
        {
          "output_type": "stream",
          "name": "stdout",
          "text": [
            "27\n",
            "wrong time\n"
          ]
        }
      ]
    },
    {
      "cell_type": "code",
      "source": [
        "#Home Task 5\n",
        "marks=int(input())\n",
        "if 0<=marks<=100:\n",
        "  if 90<=marks<=100:\n",
        "   print(\"A\")\n",
        "  if 80<=marks<=89:\n",
        "   print(\"B\")\n",
        "  if 70<=marks<=79:\n",
        "   print(\"C\")\n",
        "  if 60<=marks<=69:\n",
        "   print(\"D\")\n",
        "  if 50<=marks<=59:\n",
        "   print(\"E\")\n",
        "  if marks<50:\n",
        "   print(\"F\")\n",
        "else:\n",
        "  print(\"No output\")\n"
      ],
      "metadata": {
        "colab": {
          "base_uri": "https://localhost:8080/"
        },
        "id": "hu9nGEyETReK",
        "outputId": "97274154-0849-4383-e6fc-d79dd2fad855"
      },
      "execution_count": null,
      "outputs": [
        {
          "output_type": "stream",
          "name": "stdout",
          "text": [
            "49\n",
            "F\n"
          ]
        }
      ]
    }
  ]
}