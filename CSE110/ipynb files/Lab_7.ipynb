{
  "nbformat": 4,
  "nbformat_minor": 0,
  "metadata": {
    "colab": {
      "provenance": []
    },
    "kernelspec": {
      "name": "python3",
      "display_name": "Python 3"
    },
    "language_info": {
      "name": "python"
    }
  },
  "cells": [
    {
      "cell_type": "code",
      "execution_count": null,
      "metadata": {
        "colab": {
          "base_uri": "https://localhost:8080/"
        },
        "id": "U_QqlnOVsfQQ",
        "outputId": "ac91d2eb-c22c-4a52-d5a1-24acc1b57ee7"
      },
      "outputs": [
        {
          "output_type": "stream",
          "name": "stdout",
          "text": [
            "length of array:3\n",
            "5\n",
            "8\n",
            "2\n",
            "Original Array: [5 8 2]\n",
            "9\n",
            "Resized Array: [5 8 2 9]\n"
          ]
        }
      ],
      "source": [
        "#task 1\n",
        "import numpy as np\n",
        "n=int(input(\"length of array:\"))\n",
        "myarr=np.zeros(n,dtype=\"int\")\n",
        "for i in range(n):\n",
        "  myarr[i]=int(input())\n",
        "print(\"Original Array:\" ,myarr)\n",
        "new=myarr.size+1\n",
        "myarr2=np.zeros(new,dtype=\"int\")\n",
        "p=int(input())\n",
        "for i in range(n):\n",
        "  myarr2[i]=myarr[i]\n",
        "  myarr2[-1]=p\n",
        "print(\"Resized Array:\", myarr2)"
      ]
    },
    {
      "cell_type": "code",
      "source": [
        "#task 2\n",
        "import numpy as np\n",
        "n=int(input(\"length of array:\"))\n",
        "myarr=np.zeros(n,dtype=\"int\")\n",
        "for i in range(n):\n",
        "  myarr[i]=int(input())\n",
        "print(\"Original array: \", myarr)\n",
        "for i in range(n):\n",
        "  if myarr[i]<0 or myarr[i]==0:\n",
        "    myarr[i]=0\n",
        "  else:\n",
        "    myarr[i]=1\n",
        "print(\"After modifying: \", myarr)"
      ],
      "metadata": {
        "colab": {
          "base_uri": "https://localhost:8080/"
        },
        "id": "6kWN5XM3sk8c",
        "outputId": "fa4f1bcd-02af-4d29-b688-e63770dc8b76"
      },
      "execution_count": null,
      "outputs": [
        {
          "output_type": "stream",
          "name": "stdout",
          "text": [
            "length of array:4\n",
            "3\n",
            "4\n",
            "-2\n",
            "1\n",
            "Original array:  [ 3  4 -2  1]\n",
            "After modifying:  [1 1 0 1]\n"
          ]
        }
      ]
    },
    {
      "cell_type": "code",
      "source": [
        "#task 3\n",
        "import numpy as np\n",
        "def reverseArray(arr):\n",
        "  arr=arr[::-1]\n",
        "  return arr\n",
        "\n",
        "arr1 = np.array([10, 12, 20, 5, 7])\n",
        "arr1 = reverseArray(arr1)\n",
        "print(arr1)"
      ],
      "metadata": {
        "colab": {
          "base_uri": "https://localhost:8080/"
        },
        "id": "26QHFsaysmkS",
        "outputId": "907a78aa-0d83-4897-d462-f91729450f79"
      },
      "execution_count": null,
      "outputs": [
        {
          "output_type": "stream",
          "name": "stdout",
          "text": [
            "[ 7  5 20 12 10]\n"
          ]
        }
      ]
    },
    {
      "cell_type": "code",
      "source": [
        "#task 4\n",
        "import numpy as np\n",
        "def printPairs(arr,n):\n",
        "  count=0\n",
        "  for i in range(arr.size):\n",
        "    for j in range(i+1, arr.size):\n",
        "      if arr[i]+arr[j]==n:\n",
        "        count+=1\n",
        "        print(arr[i], arr[j])\n",
        "  if count==0:\n",
        "    print(\"No pair found\")\n",
        "\n",
        "arr1 = np.array([7,8,10,5,3,4,2])\n",
        "printPairs(arr1, 15)"
      ],
      "metadata": {
        "colab": {
          "base_uri": "https://localhost:8080/"
        },
        "id": "nnD6sCdFsoTq",
        "outputId": "41aa399b-ef80-480a-c667-c4e7193f4e86"
      },
      "execution_count": null,
      "outputs": [
        {
          "output_type": "stream",
          "name": "stdout",
          "text": [
            "7 8\n",
            "10 5\n"
          ]
        }
      ]
    },
    {
      "cell_type": "code",
      "source": [
        "#task 5\n",
        "import numpy as np\n",
        "vec1 = np.array([1,2,3])\n",
        "vec2 = np.array([4,5,6])\n",
        "sum=0\n",
        "len=vec1.size\n",
        "for i in range(len):\n",
        "    sum+= vec1[i]*vec2[i]\n",
        "print(\"Dot product:\",sum)\n",
        "if sum%2==0:\n",
        " for i in range(0,len,2):\n",
        "  temp=vec1[i]\n",
        "  vec1[i]=vec2[i]\n",
        "  vec2[i]=temp\n",
        "else:\n",
        "  for i in range(1,len,2):\n",
        "    temp=vec1[i]\n",
        "    vec1[i]=vec2[i]\n",
        "    vec2[i]=temp\n",
        "print(\"After Swapping:\")\n",
        "print(vec1)\n",
        "print(vec2)"
      ],
      "metadata": {
        "colab": {
          "base_uri": "https://localhost:8080/"
        },
        "id": "UnU1M4Qisomy",
        "outputId": "7048ab29-e744-45eb-b97e-e10ddc1a342a"
      },
      "execution_count": null,
      "outputs": [
        {
          "output_type": "stream",
          "name": "stdout",
          "text": [
            "Dot product: 32\n",
            "After Swapping:\n",
            "[4 2 6]\n",
            "[1 5 3]\n"
          ]
        }
      ]
    },
    {
      "cell_type": "code",
      "source": [
        "#task 6\n",
        "import numpy as np\n",
        "n=int(input())\n",
        "arr1=np.zeros(n,dtype=\"int\")\n",
        "for i in range(n):\n",
        "  p=int(input())\n",
        "  arr1[i]=p\n",
        "print(\"Original Array:\", arr1)\n",
        "\n",
        "for i in range(0,n-1):\n",
        "  minInd=arr1[i]\n",
        "  swap=arr1[i]\n",
        "  curr=i\n",
        "  for j in range(i+1,n):\n",
        "    if arr1[j]<minInd:\n",
        "      minInd=arr1[j]\n",
        "      curr=j\n",
        "  arr1[i]=minInd\n",
        "  arr1[curr]=swap\n",
        "print(\"Sorted Array:\",arr1)"
      ],
      "metadata": {
        "colab": {
          "base_uri": "https://localhost:8080/"
        },
        "id": "YJgqUIo-stbM",
        "outputId": "7594fdcc-96fc-429e-ef5c-6602db0140dd"
      },
      "execution_count": null,
      "outputs": [
        {
          "output_type": "stream",
          "name": "stdout",
          "text": [
            "6\n",
            "3\n",
            "6\n",
            "1\n",
            "2\n",
            "8\n",
            "5\n",
            "Original Array: [3 6 1 2 8 5]\n",
            "Sorted Array: [1 2 3 5 6 8]\n"
          ]
        }
      ]
    },
    {
      "cell_type": "code",
      "source": [
        "#task 7\n",
        "import numpy as np\n",
        "def flatten(arr1):\n",
        "  arr2=np.zeros(arr1.size, dtype=arr1.dtype)\n",
        "  row=arr1.shape[0]\n",
        "  column=arr1.shape[1]\n",
        "  k=0\n",
        "  for i in range(row):\n",
        "    for j in range(column):\n",
        "      arr2[k]=arr1[i][j]\n",
        "      k+=1\n",
        "  return arr2\n",
        "\n",
        "arr1 = np.array( [ [1, 2, 3],[3, 4, 5] ] )\n",
        "arr2 = flatten(arr1)\n",
        "print(arr2)"
      ],
      "metadata": {
        "colab": {
          "base_uri": "https://localhost:8080/"
        },
        "id": "bIy6BPD6stdU",
        "outputId": "8acc7aba-c766-4776-f103-6ff2534c6178"
      },
      "execution_count": null,
      "outputs": [
        {
          "output_type": "stream",
          "name": "stdout",
          "text": [
            "[1 2 3 3 4 5]\n"
          ]
        }
      ]
    },
    {
      "cell_type": "code",
      "source": [
        "#task 8\n",
        "import numpy as np\n",
        "arr1 = np.array([ [1, 0, 0, 1],\n",
        "                  [0, 1, 0, 0],\n",
        "                  [1, 0, 1, 0],\n",
        "                  [0, 1, 0, 1] ])\n",
        "\n",
        "row=arr1.shape[0]\n",
        "column=arr1.shape[1]\n",
        "identity=True\n",
        "for i in range(row):\n",
        "  for j in range(column):\n",
        "    if i == j and arr1[i][j] != 1:\n",
        "        identity=False\n",
        "        break\n",
        "    elif i!=j and arr1[i][j] != 0:\n",
        "        identity=False\n",
        "        break\n",
        "  if not identity:\n",
        "    break\n",
        "\n",
        "if identity==True:\n",
        "  print(\"Identity Matrix\")\n",
        "else:\n",
        "  print(\"Not an Identity Matrix\")"
      ],
      "metadata": {
        "colab": {
          "base_uri": "https://localhost:8080/"
        },
        "id": "1x22iG2fstfa",
        "outputId": "b4d03e73-0e73-4ef6-9aee-4f9a5ee75819"
      },
      "execution_count": null,
      "outputs": [
        {
          "output_type": "stream",
          "name": "stdout",
          "text": [
            "Not an Identity Matrix\n"
          ]
        }
      ]
    },
    {
      "cell_type": "code",
      "source": [
        "#task 9\n",
        "import numpy as np\n",
        "A = np.array([ [1, 5, 12, 1],\n",
        "                [2, -4, 6, 7],\n",
        "                [3, 8, 5, 9],\n",
        "                [3, 5, 23, -6] ])\n",
        "\n",
        "row=A.shape[0]\n",
        "column=A.shape[1]\n",
        "primarySum=0\n",
        "secondarySum=0\n",
        "for i in range(row):\n",
        "  for j in range(column):\n",
        "    if i==j:\n",
        "      primarySum+=A[i][j]\n",
        "    elif j==row-1:\n",
        "      secondarySum+=A[i][j]\n",
        "      row-=1\n",
        "\n",
        "print(abs(primarySum-secondarySum))"
      ],
      "metadata": {
        "colab": {
          "base_uri": "https://localhost:8080/"
        },
        "id": "0szxaXf8sthc",
        "outputId": "f759c8dd-7bad-430e-f2a6-2265ab75f75c"
      },
      "execution_count": null,
      "outputs": [
        {
          "output_type": "stream",
          "name": "stdout",
          "text": [
            "22\n"
          ]
        }
      ]
    },
    {
      "cell_type": "code",
      "source": [
        "#task 10.1\n",
        "import numpy as np\n",
        "A = np.array([[1, 2, 3],\n",
        "              [4, 5, 6],\n",
        "              [7, 8, 9]])\n",
        "\n",
        "row=A.shape[0]\n",
        "column=A.shape[1]\n",
        "arr1=np.zeros((column,row), dtype=\"int\")\n",
        "for i in range(row):\n",
        "  for j in range(column):\n",
        "    arr1[j][i]= A[i][j]\n",
        "print(arr1)"
      ],
      "metadata": {
        "colab": {
          "base_uri": "https://localhost:8080/"
        },
        "id": "XFyE05AUs2XD",
        "outputId": "256813d5-241f-49c6-f7f4-965535bae580"
      },
      "execution_count": null,
      "outputs": [
        {
          "output_type": "stream",
          "name": "stdout",
          "text": [
            "[[1 4 7]\n",
            " [2 5 8]\n",
            " [3 6 9]]\n"
          ]
        }
      ]
    },
    {
      "cell_type": "code",
      "source": [
        "#task 10.2\n",
        "import numpy as np\n",
        "arr1 = np.array([[1, 2, 3],\n",
        "                [4, 5, 6],\n",
        "                [7, 8, 9]])\n",
        "\n",
        "row=arr1.shape[0]\n",
        "column=arr1.shape[1]\n",
        "arr2=np.zeros((column, row), dtype=\"int\")\n",
        "for i in range(row):\n",
        "  for j in range(column):\n",
        "    arr2[j][i]= arr1[i][j]\n",
        "\n",
        "row1=arr2.shape[0]\n",
        "column1=arr2.shape[1]\n",
        "arr3=np.zeros((row1,column), dtype=\"int\")\n",
        "\n",
        "for i in range(row1):\n",
        "  for j in range(column):\n",
        "    sum=0\n",
        "    for p in range(column1):\n",
        "      sum+=arr2[i][p]*arr1[p][j]\n",
        "    arr3[i][j]=sum\n",
        "\n",
        "print(arr3)"
      ],
      "metadata": {
        "colab": {
          "base_uri": "https://localhost:8080/"
        },
        "id": "8d8b5AZfs2ZS",
        "outputId": "9aba5d77-0871-445d-c015-5167bbf92d02"
      },
      "execution_count": null,
      "outputs": [
        {
          "output_type": "stream",
          "name": "stdout",
          "text": [
            "[[ 66  78  90]\n",
            " [ 78  93 108]\n",
            " [ 90 108 126]]\n"
          ]
        }
      ]
    },
    {
      "cell_type": "code",
      "source": [
        "#task 11\n",
        "arr1 = np.array([[4,1,2],\n",
        "                  [9,3,7]])\n",
        "\n",
        "row=arr1.shape[0]\n",
        "column=arr1.shape[1]\n",
        "difference=abs(row-column)\n",
        "remainder=difference%row\n",
        "sum=0\n",
        "for i in range(row):\n",
        "  if i==remainder:\n",
        "    for j in range(column):\n",
        "      sum+= arr1[i][j]\n",
        "    average=sum/column\n",
        "average=round(average,2)\n",
        "\n",
        "finalArr=np.zeros((row,column), dtype=\"float\")\n",
        "for i in range(row):\n",
        "  for j in range(column):\n",
        "    finalArr[i][j]=arr1[i][j]*average\n",
        "\n",
        "print(finalArr)"
      ],
      "metadata": {
        "colab": {
          "base_uri": "https://localhost:8080/"
        },
        "id": "b3QMvha0s2bb",
        "outputId": "d22cfcef-9e6c-47ab-889e-3392f3a814b2"
      },
      "execution_count": null,
      "outputs": [
        {
          "output_type": "stream",
          "name": "stdout",
          "text": [
            "[[25.32  6.33 12.66]\n",
            " [56.97 18.99 44.31]]\n"
          ]
        }
      ]
    }
  ]
}