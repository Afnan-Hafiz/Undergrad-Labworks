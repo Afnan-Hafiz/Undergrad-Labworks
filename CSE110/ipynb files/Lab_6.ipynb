{
  "nbformat": 4,
  "nbformat_minor": 0,
  "metadata": {
    "colab": {
      "provenance": []
    },
    "kernelspec": {
      "name": "python3",
      "display_name": "Python 3"
    },
    "language_info": {
      "name": "python"
    }
  },
  "cells": [
    {
      "cell_type": "code",
      "execution_count": null,
      "metadata": {
        "id": "B3BJ0npDfpJa"
      },
      "outputs": [],
      "source": [
        "# Task 1 (with append)\n",
        "lst = []\n",
        "for i in range(5):\n",
        "    n = int(input())\n",
        "    lst.append(n)\n",
        "    print(lst)\n",
        "\n",
        "# Task 1 (without append)\n",
        "lst = []\n",
        "for i in range(5):\n",
        "    n = int(input())\n",
        "    lst = lst + [n]\n",
        "    print(lst)"
      ]
    },
    {
      "cell_type": "code",
      "source": [
        "# Task 2\n",
        "lst = eval(input())\n",
        "rev = []\n",
        "for i in range(len(lst)-1, -1, -1):\n",
        "    rev.append(lst[i])\n",
        "print(rev)"
      ],
      "metadata": {
        "id": "z3J0kww6fsrU"
      },
      "execution_count": null,
      "outputs": []
    },
    {
      "cell_type": "code",
      "source": [
        "# Task 3\n",
        "lst = eval(\"[\"+input()+\"]\")\n",
        "if len(lst) > 4:\n",
        "    print(lst[2:-2])\n",
        "elif len(lst) == 4:\n",
        "    print([])\n",
        "else:\n",
        "    print(\"Not possible\")"
      ],
      "metadata": {
        "id": "fx49nDGff2D4"
      },
      "execution_count": null,
      "outputs": []
    },
    {
      "cell_type": "code",
      "source": [
        "# Task 4\n",
        "list_one = eval(input())\n",
        "list_two = eval(input())\n",
        "flag = False\n",
        "for i in list_one:\n",
        "    if i in list_two:\n",
        "        flag = True\n",
        "        break\n",
        "print(flag)"
      ],
      "metadata": {
        "id": "R-4gjAtjf5sj"
      },
      "execution_count": null,
      "outputs": []
    },
    {
      "cell_type": "code",
      "source": [
        "# Task 5\n",
        "list_one = eval(input())\n",
        "list_two = eval(input())\n",
        "list_one = list_one[:-1] + list_two\n",
        "print(list_one)"
      ],
      "metadata": {
        "id": "ZI3YJV2ngB6u"
      },
      "execution_count": null,
      "outputs": []
    },
    {
      "cell_type": "code",
      "source": [
        "# Task 6\n",
        "list1 = eval(input())\n",
        "list2 = eval(input())\n",
        "new_list = []\n",
        "for i in list1 + list2:\n",
        "    if i % 2 == 0:\n",
        "        new_list.append(i)\n",
        "print(new_list)"
      ],
      "metadata": {
        "id": "ExQrRaqggCho"
      },
      "execution_count": null,
      "outputs": []
    },
    {
      "cell_type": "code",
      "source": [
        "# Task 7\n",
        "def nested_to_linear(lst):\n",
        "    result = []\n",
        "    for i in lst:\n",
        "        if type(i) == list:\n",
        "            result += nested_to_linear(i)\n",
        "        else:\n",
        "            result.append(i)\n",
        "    return result\n",
        "\n",
        "print(nested_to_linear(eval(input())))"
      ],
      "metadata": {
        "id": "gLM_gluEgLay"
      },
      "execution_count": null,
      "outputs": []
    },
    {
      "cell_type": "code",
      "source": [
        "# Task 8\n",
        "grade_list = []\n",
        "for i in range(5):\n",
        "    s = eval(input())\n",
        "    grade_list.append(s)\n",
        "    print(grade_list)"
      ],
      "metadata": {
        "id": "esu_wuHwgVcL"
      },
      "execution_count": null,
      "outputs": []
    }
  ]
}