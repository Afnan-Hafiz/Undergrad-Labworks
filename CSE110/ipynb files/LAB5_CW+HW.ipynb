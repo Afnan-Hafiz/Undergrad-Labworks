{
  "cells": [
    {
      "cell_type": "markdown",
      "metadata": {
        "id": "JkaOyOwHiRrC"
      },
      "source": [
        "CLASS TASKS"
      ]
    },
    {
      "cell_type": "code",
      "execution_count": null,
      "metadata": {
        "colab": {
          "background_save": true,
          "base_uri": "https://localhost:8080/"
        },
        "id": "RtGd31NDUSHf",
        "outputId": "d0556846-d930-4ba9-e497-2d65afe39dfc"
      },
      "outputs": [
        {
          "name": "stdout",
          "output_type": "stream",
          "text": [
            "Odd!!\n"
          ]
        }
      ],
      "source": [
        "#class task 1.1\n",
        "def even_checker(num):\n",
        "  if num%2==0:\n",
        "    print(\"Even!!\")\n",
        "  else:\n",
        "    print(\"Odd!!\")\n",
        "even_checker(17)"
      ]
    },
    {
      "cell_type": "code",
      "execution_count": null,
      "metadata": {
        "colab": {
          "base_uri": "https://localhost:8080/"
        },
        "id": "nUgGD2K9Ud9F",
        "outputId": "fc20ce26-63ba-4e93-a4bc-71bfac840c8a"
      },
      "outputs": [
        {
          "name": "stdout",
          "output_type": "stream",
          "text": [
            "False\n"
          ]
        }
      ],
      "source": [
        "#class task 1.2\n",
        "def is_even(num):\n",
        "  if num%2==0:\n",
        "    return True\n",
        "  else:\n",
        "    return False\n",
        "result=is_even(17)\n",
        "print(result)"
      ]
    },
    {
      "cell_type": "code",
      "execution_count": null,
      "metadata": {
        "colab": {
          "base_uri": "https://localhost:8080/"
        },
        "id": "QqcPJKaygdFo",
        "outputId": "9f700d4f-8f7a-41e0-dfe6-a3777b5f8832"
      },
      "outputs": [
        {
          "name": "stdout",
          "output_type": "stream",
          "text": [
            "True\n"
          ]
        }
      ],
      "source": [
        "#class task 1.3\n",
        "def is_pos(num):\n",
        "  if num>=0:\n",
        "    return True\n",
        "  else:\n",
        "    return False\n",
        "result = is_pos(12)\n",
        "print( result )"
      ]
    },
    {
      "cell_type": "code",
      "execution_count": null,
      "metadata": {
        "colab": {
          "base_uri": "https://localhost:8080/"
        },
        "id": "rQii85H3g5y-",
        "outputId": "60cfe422-85f6-4775-d609-583fca7093cf"
      },
      "outputs": [
        {
          "name": "stdout",
          "output_type": "stream",
          "text": [
            "0 2 4 6 8 10 "
          ]
        }
      ],
      "source": [
        "#class task 1.4\n",
        "def is_pos(num):\n",
        "  if num>0:\n",
        "    return True\n",
        "  else:\n",
        "    return False\n",
        "def is_even(num):\n",
        "  if num%2==0:\n",
        "    return True\n",
        "  else:\n",
        "    return False\n",
        "def sequence(n):\n",
        "  if is_pos(n)==True:\n",
        "    for i in range(0,n+1):\n",
        "      if is_even(i)==True:\n",
        "        print(i,end=\" \")\n",
        "  else:\n",
        "    for i in range(n,0):\n",
        "      if is_even(i)==False:\n",
        "        print(i,end=\" \")\n",
        "sequence(10)\n"
      ]
    },
    {
      "cell_type": "code",
      "execution_count": null,
      "metadata": {
        "colab": {
          "base_uri": "https://localhost:8080/"
        },
        "id": "LZHg4eR5nofN",
        "outputId": "c06f46a4-f246-4c9d-db58-e7e5e98884ab"
      },
      "outputs": [
        {
          "name": "stdout",
          "output_type": "stream",
          "text": [
            "True\n"
          ]
        }
      ],
      "source": [
        "#class task 2.1\n",
        "def is_valid_triangle(x,y,z):\n",
        "  if x+y>z and x+z>y and z+y>x:\n",
        "    return True\n",
        "  else:\n",
        "    return False\n",
        "result=is_valid_triangle(7,5,10)\n",
        "print(result)"
      ]
    },
    {
      "cell_type": "code",
      "execution_count": null,
      "metadata": {
        "colab": {
          "base_uri": "https://localhost:8080/"
        },
        "id": "njbU70JnoL3T",
        "outputId": "863625b0-80f2-4d3b-97a2-a6a91d939016"
      },
      "outputs": [
        {
          "name": "stdout",
          "output_type": "stream",
          "text": [
            "16.24807680927192\n"
          ]
        }
      ],
      "source": [
        "#class task 2.2\n",
        "def is_valid_triangle(x,y,z):\n",
        "  if x+y>z and x+z>y and z+y>x:\n",
        "    return True\n",
        "  else:\n",
        "    return False\n",
        "def tri_area(x,y,z):\n",
        "  s = (x + y + z)/2\n",
        "  area=((s*(s-x)*(s-y)*(s-z))**(1/2))\n",
        "  if is_valid_triangle(x,y,z)==True:\n",
        "    print(area)\n",
        "  else:\n",
        "    print(\"Cant form triangle\")\n",
        "tri_area(7,5,10)"
      ]
    },
    {
      "cell_type": "code",
      "execution_count": null,
      "metadata": {
        "colab": {
          "base_uri": "https://localhost:8080/"
        },
        "id": "CQKxesjpsKCF",
        "outputId": "8173922e-1002-48db-b322-1b1e1905029a"
      },
      "outputs": [
        {
          "data": {
            "text/plain": [
              "78.53999999999999"
            ]
          },
          "execution_count": 36,
          "metadata": {},
          "output_type": "execute_result"
        }
      ],
      "source": [
        "#class task 3.1\n",
        "def circle(n):\n",
        "  area=3.1416*(n**2)\n",
        "  return area\n",
        "circle(5)"
      ]
    },
    {
      "cell_type": "code",
      "execution_count": null,
      "metadata": {
        "colab": {
          "base_uri": "https://localhost:8080/"
        },
        "id": "HKY4CwAjtpBo",
        "outputId": "2217ad4a-657a-46ea-8864-f908054132c4"
      },
      "outputs": [
        {
          "data": {
            "text/plain": [
              "523.5999999999999"
            ]
          },
          "execution_count": 37,
          "metadata": {},
          "output_type": "execute_result"
        }
      ],
      "source": [
        "#class task 3.2\n",
        "def sphere(n):\n",
        "  volume=4/3*3.1416*(n**3)\n",
        "  return volume\n",
        "sphere(5)"
      ]
    },
    {
      "cell_type": "code",
      "execution_count": null,
      "metadata": {
        "colab": {
          "base_uri": "https://localhost:8080/"
        },
        "id": "EQZHARbwqvDl",
        "outputId": "81fbf3b8-f790-4226-bbb9-f9a0ae9e1eaf"
      },
      "outputs": [
        {
          "name": "stdout",
          "output_type": "stream",
          "text": [
            "Circle-1 can fit inside Circle-2 and 28.274399999999993 square units would be left.\n"
          ]
        }
      ],
      "source": [
        "#class task 3.3\n",
        "def circle(n):\n",
        "  area=3.1416*(n**2)\n",
        "  return area\n",
        "def sphere(n):\n",
        "  volume=4/3*3.1416*(n**3)\n",
        "  return volume\n",
        "def fitting(a,b,c):\n",
        "  if c==2:\n",
        "    area1=circle(a/2)\n",
        "    area2=circle(b/2)\n",
        "    if area1>area2:\n",
        "      remaining_space1=area1-area2\n",
        "      print(f\"Circle-1 can fit inside Circle-2 and {remaining_space1} square units would be left.\")\n",
        "    elif area2>area1:\n",
        "      remaining_space2=area2-area1\n",
        "      print(f\"Circle-1 can fit inside Circle-2 and {remaining_space2} square units would be left.\")\n",
        "    else:\n",
        "      print(\"Impossible to fit.\")\n",
        "  elif c==3:\n",
        "    volume1=sphere(a/2)\n",
        "    volume2=sphere(b/2)\n",
        "    if volume1>volume2:\n",
        "      remaining1=volume1-volume2\n",
        "      print(f\"Sphere-2 can fit inside Sphere-1 and {remaining1} cubic units would be left.\")\n",
        "    elif volume1<volume2:\n",
        "      remaining2=volume2-volume1\n",
        "      print(f\"Sphere-1 can fit inside Sphere-2 and {remaining2} cubic units would be left.\")\n",
        "    else:\n",
        "      print(\"Impossible to fit.\")\n",
        "fitting(8,10,2)"
      ]
    },
    {
      "cell_type": "code",
      "execution_count": null,
      "metadata": {
        "colab": {
          "base_uri": "https://localhost:8080/"
        },
        "id": "OhRlDzNqJlxS",
        "outputId": "8c5cc53d-f096-460b-88a6-1bb7954f04d7"
      },
      "outputs": [
        {
          "name": "stdout",
          "output_type": "stream",
          "text": [
            "11\n",
            "1 2 3 4 5 6 7 8 9 10 11 "
          ]
        }
      ],
      "source": [
        "#class task 5.1\n",
        "def one_to_N(c,n):\n",
        "  if c==n:\n",
        "    print(c, end=\" \")\n",
        "    return\n",
        "  else:\n",
        "    print(c, end=\" \")\n",
        "    one_to_N(c+1,n)\n",
        "n=int(input())\n",
        "one_to_N(1,n)"
      ]
    },
    {
      "cell_type": "code",
      "execution_count": null,
      "metadata": {
        "colab": {
          "base_uri": "https://localhost:8080/"
        },
        "id": "jaaBZBzLLqFP",
        "outputId": "f5b50bec-59b8-483d-d2e6-4070dbee90c2"
      },
      "outputs": [
        {
          "name": "stdout",
          "output_type": "stream",
          "text": [
            "3\n",
            "3 2 1 "
          ]
        }
      ],
      "source": [
        "#class task 5.2\n",
        "def reverse_printing(start,end):\n",
        "  if end==start:\n",
        "    print(end, end=\" \")\n",
        "  else:\n",
        "    print(end, end=\" \")\n",
        "    reverse_printing(start,end-1)\n",
        "n=int(input())\n",
        "reverse_printing(1,n)"
      ]
    },
    {
      "cell_type": "code",
      "execution_count": null,
      "metadata": {
        "colab": {
          "base_uri": "https://localhost:8080/"
        },
        "id": "whzxDLOiuIAQ",
        "outputId": "978d634b-1000-4d88-e338-6fcaf3e1f0ef"
      },
      "outputs": [
        {
          "name": "stdout",
          "output_type": "stream",
          "text": [
            "12\n"
          ]
        },
        {
          "data": {
            "text/plain": [
              "78"
            ]
          },
          "execution_count": 26,
          "metadata": {},
          "output_type": "execute_result"
        }
      ],
      "source": [
        "#class task 5.3\n",
        "def recursive_summation(start,end):\n",
        "  if end==0 or end==1:\n",
        "    return 1\n",
        "  else:\n",
        "    return end+recursive_summation(start,end-1)\n",
        "n=int(input())\n",
        "recursive_summation(1,n)"
      ]
    },
    {
      "cell_type": "markdown",
      "metadata": {
        "id": "gJyWuG8UiGIi"
      },
      "source": [
        "HOME TASKS"
      ]
    },
    {
      "cell_type": "code",
      "execution_count": null,
      "metadata": {
        "colab": {
          "base_uri": "https://localhost:8080/"
        },
        "id": "Mpsmx1LgBtHZ",
        "outputId": "efd889b3-d411-4b7e-dadc-1b71ceb9fa75"
      },
      "outputs": [
        {
          "name": "stdout",
          "output_type": "stream",
          "text": [
            "False\n"
          ]
        }
      ],
      "source": [
        "#home task1.1\n",
        "def is_prime(num):\n",
        "  for i in range(2,num):\n",
        "    if num%i==0:\n",
        "      return False\n",
        "      break\n",
        "  else:\n",
        "    return True\n",
        "prime_check = is_prime(20)\n",
        "print(prime_check)"
      ]
    },
    {
      "cell_type": "code",
      "execution_count": null,
      "metadata": {
        "colab": {
          "base_uri": "https://localhost:8080/"
        },
        "id": "T4sl8uKOGVTb",
        "outputId": "8780bdce-e55f-4f1e-a9da-4e59bc37d652"
      },
      "outputs": [
        {
          "name": "stdout",
          "output_type": "stream",
          "text": [
            "True\n"
          ]
        }
      ],
      "source": [
        "#home task1.2\n",
        "def is_perfect(num):\n",
        "  count=0\n",
        "  for i in range(1,num):\n",
        "    if num%i==0:\n",
        "      count+=i\n",
        "  if count==num:\n",
        "    return True\n",
        "  else:\n",
        "    return False\n",
        "perfect_check = is_perfect(6)\n",
        "print(perfect_check)"
      ]
    },
    {
      "cell_type": "code",
      "execution_count": null,
      "metadata": {
        "colab": {
          "base_uri": "https://localhost:8080/"
        },
        "id": "55puwZhIJJYk",
        "outputId": "21bf0907-e50d-4eac-be13-9254062bef53"
      },
      "outputs": [
        {
          "name": "stdout",
          "output_type": "stream",
          "text": [
            "30\n",
            "163\n"
          ]
        }
      ],
      "source": [
        "#home task 1.3\n",
        "def is_prime(num):\n",
        "  for i in range(2,num):\n",
        "    if num%i==0:\n",
        "      return False\n",
        "      break\n",
        "  else:\n",
        "    return True\n",
        "def is_perfect(num):\n",
        "  count=0\n",
        "  for i in range(1,num):\n",
        "    if num%i==0:\n",
        "      count+=i\n",
        "  if count==num:\n",
        "    return True\n",
        "  else:\n",
        "    return False\n",
        "def special_sum(n):\n",
        "  sum=0\n",
        "  for i in range(0,n+1):\n",
        "    if(is_prime(i)):\n",
        "      sum+=i\n",
        "    elif(is_perfect(i)):\n",
        "      sum+=i\n",
        "  return sum-1\n",
        "n=int(input())\n",
        "result= special_sum(n)\n",
        "print(result)"
      ]
    },
    {
      "cell_type": "code",
      "execution_count": null,
      "metadata": {
        "colab": {
          "base_uri": "https://localhost:8080/"
        },
        "id": "cSYNPBk2Yp2Z",
        "outputId": "38a2c6dc-4f80-4e8d-c88b-a907dc03cca1"
      },
      "outputs": [
        {
          "name": "stdout",
          "output_type": "stream",
          "text": [
            "....."
          ]
        }
      ],
      "source": [
        "#home task2.1\n",
        "def show_dots(num):\n",
        "    print(\".\" * num, end=\"\")\n",
        "show_dots(5)"
      ]
    },
    {
      "cell_type": "code",
      "execution_count": null,
      "metadata": {
        "colab": {
          "base_uri": "https://localhost:8080/"
        },
        "id": "E8Gj6NNfdCGQ",
        "outputId": "b73f8c29-4ca3-44e8-cbe1-3c96f8090626"
      },
      "outputs": [
        {
          "name": "stdout",
          "output_type": "stream",
          "text": [
            "123454321"
          ]
        }
      ],
      "source": [
        "#home task2.2\n",
        "def show_palindrome(n):\n",
        "  for i in range(1,n+1,1):\n",
        "    print(i,end=\"\")\n",
        "  for i in range(n-1,0,-1):\n",
        "    print(i,end=\"\")\n",
        "show_palindrome(5)"
      ]
    },
    {
      "cell_type": "code",
      "execution_count": null,
      "metadata": {
        "colab": {
          "base_uri": "https://localhost:8080/"
        },
        "id": "8Uwy218mGxmB",
        "outputId": "829ae9a2-5148-4182-cf5c-dd49a2377f3e"
      },
      "outputs": [
        {
          "name": "stdout",
          "output_type": "stream",
          "text": [
            "....1....\n",
            "...121...\n",
            "..12321..\n",
            ".1234321.\n",
            "123454321\n"
          ]
        }
      ],
      "source": [
        "#home task2.3\n",
        "def show_dots(num):\n",
        "    print(\".\" * num, end=\"\")\n",
        "def show_palindrome(n):\n",
        "  for i in range(1,n+1,1):\n",
        "    print(i,end=\"\")\n",
        "  for i in range(n-1,0,-1):\n",
        "    print(i,end=\"\")\n",
        "def show_triangle(num):\n",
        "    length=(num*2)-1\n",
        "    for i in range(1,num+1):\n",
        "        numeric=(i*2)-1\n",
        "        dot= int((length-numeric)/2)\n",
        "        show_dots(dot)\n",
        "        show_palindrome(i)\n",
        "        show_dots(dot)\n",
        "        print()\n",
        "show_triangle(5)"
      ]
    },
    {
      "cell_type": "code",
      "execution_count": null,
      "metadata": {
        "colab": {
          "base_uri": "https://localhost:8080/"
        },
        "id": "joQw5lrSTe2J",
        "outputId": "6d922c6f-df7d-46af-c573-d92ba9e9446d"
      },
      "outputs": [
        {
          "name": "stdout",
          "output_type": "stream",
          "text": [
            "1260\n"
          ]
        }
      ],
      "source": [
        "#home task 3.1\n",
        "def calc_tax(x,y):\n",
        "  tax=0\n",
        "  if x<18 or y<10000:\n",
        "    tax=0\n",
        "  elif 10000<=y<=20000:\n",
        "    tax=(7*y)/100\n",
        "  elif 20000<y:\n",
        "    tax=(14*y)/100\n",
        "  return tax\n",
        "t = calc_tax(20,18000)\n",
        "print(int(t))"
      ]
    },
    {
      "cell_type": "code",
      "execution_count": null,
      "metadata": {
        "colab": {
          "base_uri": "https://localhost:8080/"
        },
        "id": "Hg7BFi8WePGz",
        "outputId": "08ee947b-9005-4bd7-8484-902611a5d1f1"
      },
      "outputs": [
        {
          "name": "stdout",
          "output_type": "stream",
          "text": [
            "22\n",
            "8000\n",
            "Month1 Tax: 0\n",
            "15000\n",
            "Month2 Tax: 1050\n",
            "22000\n",
            "Month3 Tax: 3080\n",
            "2300\n",
            "Month4 Tax: 0\n",
            "15300\n",
            "Month5 Tax: 1071\n",
            "21000\n",
            "Month6 Tax: 2940\n",
            "34000\n",
            "Month7 Tax: 4760\n",
            "9000\n",
            "Month8 Tax: 0\n",
            "27000\n",
            "Month9 Tax: 3780\n",
            "88000\n",
            "Month10 Tax: 12320\n",
            "32000\n",
            "Month11 Tax: 4480\n",
            "7300\n",
            "Month12 Tax: 0\n",
            "Total Yearly Tax: 33481\n"
          ]
        }
      ],
      "source": [
        "#home task 3.2\n",
        "def calc_tax(x,y):\n",
        "  tax=0\n",
        "  if x<18 or y<10000:\n",
        "    tax=0\n",
        "  elif 10000<=y<=20000:\n",
        "    tax=(7*y)/100\n",
        "  elif 20000<y:\n",
        "    tax=(14*y)/100\n",
        "  return tax\n",
        "def calc_yearly_tax():\n",
        "  x=int(input())\n",
        "  yearly_tax=0\n",
        "  for i in range(1, 13):\n",
        "        y=int(input())\n",
        "        monthly_tax=calc_tax(x,y)\n",
        "        yearly_tax+=monthly_tax\n",
        "        print(f\"Month{i} Tax: {int(monthly_tax)}\")\n",
        "  print(f\"Total Yearly Tax: {int(yearly_tax)}\")\n",
        "calc_yearly_tax()"
      ]
    },
    {
      "cell_type": "code",
      "execution_count": null,
      "metadata": {
        "colab": {
          "base_uri": "https://localhost:8080/"
        },
        "id": "sg_pkLfYAkl9",
        "outputId": "60f8a19c-58ed-4f87-9b87-4a91aeb8b7ff"
      },
      "outputs": [
        {
          "name": "stdout",
          "output_type": "stream",
          "text": [
            "649\n",
            "9\n",
            "4\n",
            "6\n"
          ]
        }
      ],
      "source": [
        "#Task 4.1\n",
        "def reverse_digits(num):\n",
        "    if num< 10:\n",
        "        print(num)\n",
        "    else:\n",
        "        print(num%10)\n",
        "        reverse_digits(num//10)\n",
        "n=int(input())\n",
        "reverse_digits(n)"
      ]
    },
    {
      "cell_type": "code",
      "execution_count": null,
      "metadata": {
        "colab": {
          "base_uri": "https://localhost:8080/"
        },
        "id": "12-TE5WdO2ZZ",
        "outputId": "5257d7c4-acbc-4c96-aa50-78602d55ad49"
      },
      "outputs": [
        {
          "name": "stdout",
          "output_type": "stream",
          "text": [
            "3\n",
            "5\n",
            "243\n"
          ]
        }
      ],
      "source": [
        "#Task 4.2\n",
        "def power(a, n):\n",
        "    if n==0:\n",
        "      return 1\n",
        "    else:\n",
        "      return a*power(a,n-1)\n",
        "a=int(input())\n",
        "n=int(input())\n",
        "print(power(a,n))"
      ]
    },
    {
      "cell_type": "code",
      "execution_count": null,
      "metadata": {
        "colab": {
          "base_uri": "https://localhost:8080/"
        },
        "id": "qiY0hxZYPTLj",
        "outputId": "49eb8a1d-ca8e-44fc-f439-21a896ceb9ea"
      },
      "outputs": [
        {
          "name": "stdout",
          "output_type": "stream",
          "text": [
            "10\n",
            "-5\n"
          ]
        }
      ],
      "source": [
        "#Task 5.0\n",
        "def sequence_iterative(N):\n",
        "    result=0\n",
        "    for i in range(1,N+1):\n",
        "        if i%2==0:\n",
        "            result-=i\n",
        "        else:\n",
        "            result+=i\n",
        "    return result\n",
        "n=int(input())\n",
        "print(sequence_iterative(n))"
      ]
    },
    {
      "cell_type": "code",
      "execution_count": null,
      "metadata": {
        "colab": {
          "base_uri": "https://localhost:8080/"
        },
        "id": "dzizzF6tP3Az",
        "outputId": "c8b0c841-b869-4756-8aba-cab94b8126dc"
      },
      "outputs": [
        {
          "name": "stdout",
          "output_type": "stream",
          "text": [
            "10\n",
            "-5\n"
          ]
        }
      ],
      "source": [
        "#Task 5.1\n",
        "def sequence_recursive(N) :\n",
        "  a=0\n",
        "  if N==1:\n",
        "    return N\n",
        "  if N%2==0 :\n",
        "    a=(-1)*N\n",
        "  else :\n",
        "    a=N\n",
        "  return a+sequence_recursive(N-1)\n",
        "n=int(input())\n",
        "print(sequence_recursive(n))"
      ]
    }
  ],
  "metadata": {
    "colab": {
      "provenance": []
    },
    "kernelspec": {
      "display_name": "Python 3",
      "name": "python3"
    },
    "language_info": {
      "name": "python"
    }
  },
  "nbformat": 4,
  "nbformat_minor": 0
}