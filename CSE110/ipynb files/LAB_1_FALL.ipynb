{
  "nbformat": 4,
  "nbformat_minor": 0,
  "metadata": {
    "colab": {
      "provenance": []
    },
    "kernelspec": {
      "name": "python3",
      "display_name": "Python 3"
    },
    "language_info": {
      "name": "python"
    }
  },
  "cells": [
    {
      "cell_type": "code",
      "execution_count": null,
      "metadata": {
        "colab": {
          "base_uri": "https://localhost:8080/"
        },
        "id": "ghhT9R-XTQcm",
        "outputId": "3e2b55a3-f4ff-4b27-de14-77a3f0ded4b8"
      },
      "outputs": [
        {
          "name": "stdout",
          "output_type": "stream",
          "text": [
            "sadasdhvhv\n",
            "51\n"
          ]
        }
      ],
      "source": [
        "#Class Task 1.1\n",
        "x=input(\"\")\n",
        "y=int(input(\"\"))"
      ]
    },
    {
      "cell_type": "code",
      "source": [
        "#Class Task 1.2\n",
        "x=int(input(\"Enter a number:\"))\n",
        "y=int(input(\"Enter another number:\"))\n",
        "sum=x+y\n",
        "multi=x*y\n",
        "print(\"Summation:\", sum)\n",
        "print(\"Multiplication:\", multi)"
      ],
      "metadata": {
        "colab": {
          "base_uri": "https://localhost:8080/"
        },
        "id": "1ngRH8JEYpDh",
        "outputId": "dda9616f-5ef9-43de-98ba-7256ef721173"
      },
      "execution_count": null,
      "outputs": [
        {
          "output_type": "stream",
          "name": "stdout",
          "text": [
            "Enter a number:4\n",
            "Enter another number:5\n",
            "Summation: 9\n",
            "Multiplication: 20\n"
          ]
        }
      ]
    },
    {
      "cell_type": "code",
      "source": [
        "#Class Task 1.3\n",
        "x=int(input(\"Enter a number:\"))\n",
        "y=float(input(\"Enter another number:\"))\n",
        "sum= x+y\n",
        "sub= x-y\n",
        "print(sum, sub,)\n",
        "\n",
        "\n"
      ],
      "metadata": {
        "colab": {
          "base_uri": "https://localhost:8080/"
        },
        "id": "heyIe5aQaANl",
        "outputId": "c2304b29-1c8e-4a7f-af6c-261e921c8a78"
      },
      "execution_count": null,
      "outputs": [
        {
          "output_type": "stream",
          "name": "stdout",
          "text": [
            "Enter a number:20\n",
            "Enter another number:2\n",
            "22.0 18.0\n"
          ]
        }
      ]
    },
    {
      "cell_type": "code",
      "source": [
        "#Class Task 1.4\n",
        "x=int(input('Please input a number:'))\n",
        "y=int(input('Please input another number:'))\n",
        "y=float(y)\n",
        "b=str(x)\n",
        "c=str(y)\n",
        "\n",
        "print(f\"{b}{c} is the sum\")"
      ],
      "metadata": {
        "colab": {
          "base_uri": "https://localhost:8080/"
        },
        "id": "IruICi9_cZ7e",
        "outputId": "d1030cf6-7b56-4afd-d425-d47f932f92a2"
      },
      "execution_count": null,
      "outputs": [
        {
          "output_type": "stream",
          "name": "stdout",
          "text": [
            "Please input a number:2\n",
            "Please input another number:3\n",
            "23.0 is the sum\n"
          ]
        }
      ]
    },
    {
      "cell_type": "code",
      "source": [
        "#Class Task 2\n",
        "M=int(input(\"\"))\n",
        "N=int(input(\"\"))\n",
        "a=M**N\n",
        "print(f\"{M}^{N}:{a}\")"
      ],
      "metadata": {
        "colab": {
          "base_uri": "https://localhost:8080/"
        },
        "id": "M2MtNXPAvbHW",
        "outputId": "e6815a3d-de87-41d5-9ca2-00d5c78be6ee"
      },
      "execution_count": null,
      "outputs": [
        {
          "output_type": "stream",
          "name": "stdout",
          "text": [
            "10\n",
            "3\n",
            "10^3:1000\n"
          ]
        }
      ]
    },
    {
      "cell_type": "code",
      "source": [
        "#Class Task 3\n",
        "x=int(input(\"Total Weight is:\"))\n",
        "a=x//4\n",
        "print(f\"{a} is the maximum load\")"
      ],
      "metadata": {
        "colab": {
          "base_uri": "https://localhost:8080/"
        },
        "id": "SPCvtKMcoOMM",
        "outputId": "6dfabda6-7019-4056-9664-edba1c5c7299"
      },
      "execution_count": null,
      "outputs": [
        {
          "output_type": "stream",
          "name": "stdout",
          "text": [
            "Total Weight is:8\n",
            "2 is the maximum load\n"
          ]
        }
      ]
    },
    {
      "cell_type": "code",
      "source": [
        "#Class Evaluation Task 1\n",
        "A=int(input(\"\"))\n",
        "B=int(input(\"\"))\n",
        "C=int(input(\"\"))\n",
        "D=float(input(\"\"))\n",
        "E=int(A**C+(2*B)*(A//2)-D/3)\n",
        "\n",
        "print(E)"
      ],
      "metadata": {
        "colab": {
          "base_uri": "https://localhost:8080/"
        },
        "id": "uR6p4YgSq3yK",
        "outputId": "f0123d3c-7b1e-4495-e72c-a2002f4d2d85"
      },
      "execution_count": null,
      "outputs": [
        {
          "output_type": "stream",
          "name": "stdout",
          "text": [
            "2\n",
            "6\n",
            "8\n",
            "1.3\n",
            "267\n"
          ]
        }
      ]
    },
    {
      "cell_type": "code",
      "source": [
        "#Class Evaluation Task 2\n",
        "x=(input(\"First Name:\"))\n",
        "y=(input(\"Last Name:\" ))\n",
        "z=int(input(\"Age:\" ))\n",
        "p=float(input(\"CGPA:\"))\n",
        "\n",
        "newAge= z-2\n",
        "newCG=p+0.25\n",
        "\n",
        "print(\"First Name:\", x)\n",
        "print(\"Last Name:Rahman\" )\n",
        "print(\"Age:\", newAge)\n",
        "print(\"CGPA:\", newCG)\n"
      ],
      "metadata": {
        "colab": {
          "base_uri": "https://localhost:8080/"
        },
        "id": "fejlk4opz2Vp",
        "outputId": "05676df8-339d-4d7b-cbad-e4c1c06ffb44"
      },
      "execution_count": null,
      "outputs": [
        {
          "output_type": "stream",
          "name": "stdout",
          "text": [
            "First Name:labiba\n",
            "Last Name:arif\n",
            "Age:23\n",
            "CGPA:3.7\n",
            "First Name: labiba\n",
            "Last Name:Rahman\n",
            "Age: 21\n",
            "CGPA: 3.95\n"
          ]
        }
      ]
    },
    {
      "cell_type": "code",
      "source": [
        "#Home Task 3\n",
        "x=int(input())\n",
        "fren=x//3\n",
        "rem=x%3\n",
        "print(f\"Each friend will receive {fren} chocolates\")\n",
        "print(f\"The number of remaining chocolates is {rem}\")"
      ],
      "metadata": {
        "colab": {
          "base_uri": "https://localhost:8080/"
        },
        "id": "MNV9KcabPgU_",
        "outputId": "c1e8dce9-40ab-45e2-acc9-ecfb01f6247e"
      },
      "execution_count": null,
      "outputs": [
        {
          "output_type": "stream",
          "name": "stdout",
          "text": [
            "50\n",
            "Each friend will receive 16 chocolates\n",
            "The number of remaining chocolates is 2\n"
          ]
        }
      ]
    }
  ]
}