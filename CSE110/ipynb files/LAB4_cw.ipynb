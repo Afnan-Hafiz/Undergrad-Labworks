{
  "nbformat": 4,
  "nbformat_minor": 0,
  "metadata": {
    "colab": {
      "provenance": []
    },
    "kernelspec": {
      "name": "python3",
      "display_name": "Python 3"
    },
    "language_info": {
      "name": "python"
    }
  },
  "cells": [
    {
      "cell_type": "code",
      "source": [
        "#class task 1.1.1\n",
        "a=input()\n",
        "for i in range(len(a)-1,-1,-1):\n",
        "  print(a[i], end=\"\")"
      ],
      "metadata": {
        "colab": {
          "base_uri": "https://localhost:8080/"
        },
        "id": "ix2XGgdXYYFi",
        "outputId": "78b9e095-8684-44b8-ed60-9f04f2a472ee"
      },
      "execution_count": null,
      "outputs": [
        {
          "output_type": "stream",
          "name": "stdout",
          "text": [
            "cse110\n",
            "011esc"
          ]
        }
      ]
    },
    {
      "cell_type": "code",
      "source": [
        "#1.1.2\n",
        "a = input()\n",
        "print(a[::-1])"
      ],
      "metadata": {
        "colab": {
          "base_uri": "https://localhost:8080/"
        },
        "id": "RnMyueqSaAkI",
        "outputId": "5c7bf7fb-f29b-4701-85c8-e21af5c7887f"
      },
      "execution_count": 1,
      "outputs": [
        {
          "output_type": "stream",
          "name": "stdout",
          "text": [
            "Enter a string: 72418\n",
            "Enter the index: 4\n",
            "Output: 2\n"
          ]
        }
      ]
    },
    {
      "cell_type": "code",
      "source": [
        "#class task 1.2\n",
        "a=input()\n",
        "b=int(input())\n",
        "print(a[b::-1]+a[b+1:len(a)+1:1])"
      ],
      "metadata": {
        "colab": {
          "base_uri": "https://localhost:8080/"
        },
        "id": "vNLsadlDn_9F",
        "outputId": "33e116f6-3ec0-48bf-b699-4b9d9b51a0cd"
      },
      "execution_count": null,
      "outputs": [
        {
          "output_type": "stream",
          "name": "stdout",
          "text": [
            "12345\n",
            "2\n",
            "32145\n"
          ]
        }
      ]
    },
    {
      "cell_type": "code",
      "source": [
        "#testing\n",
        "a=65\n",
        "print(chr(a))\n",
        "print(ord(\"A\"))\n"
      ],
      "metadata": {
        "colab": {
          "base_uri": "https://localhost:8080/"
        },
        "id": "q8F4pYv2hE0h",
        "outputId": "9fce1d6b-cfbd-4f0b-a143-c250daa52d87"
      },
      "execution_count": null,
      "outputs": [
        {
          "output_type": "stream",
          "name": "stdout",
          "text": [
            "A\n",
            "65\n"
          ]
        }
      ]
    },
    {
      "cell_type": "code",
      "source": [
        "#class task 2.1\n",
        "a=input()\n",
        "for i in a:\n",
        " print(i,\":\",ord(i))"
      ],
      "metadata": {
        "colab": {
          "base_uri": "https://localhost:8080/"
        },
        "id": "taT7M3TehE27",
        "outputId": "d0826670-ad91-4968-b5c4-b53c56743923"
      },
      "execution_count": null,
      "outputs": [
        {
          "output_type": "stream",
          "name": "stdout",
          "text": [
            "quincuncial\n",
            "q : 113\n",
            "u : 117\n",
            "i : 105\n",
            "n : 110\n",
            "c : 99\n",
            "u : 117\n",
            "n : 110\n",
            "c : 99\n",
            "i : 105\n",
            "a : 97\n",
            "l : 108\n"
          ]
        }
      ]
    },
    {
      "cell_type": "code",
      "source": [
        "#class task 2.2\n",
        "a=input()\n",
        "b=\"\"\n",
        "new=\"\"\n",
        "for i in range(len(a)):\n",
        "  if i%2!=0:\n",
        "    b+=a[i]\n",
        "  else:\n",
        "    continue\n",
        "for i in b:\n",
        "  if \"a\"<=i<=\"z\":\n",
        "    new+=chr(ord(i)-32)\n",
        "  else:\n",
        "    new+=i\n",
        "print(new)"
      ],
      "metadata": {
        "id": "Hs1LxLEAhE5J",
        "colab": {
          "base_uri": "https://localhost:8080/"
        },
        "outputId": "f9894b67-3209-4377-eb9e-17579162c7cc"
      },
      "execution_count": null,
      "outputs": [
        {
          "output_type": "stream",
          "name": "stdout",
          "text": [
            "string\n",
            "TIG\n"
          ]
        }
      ]
    },
    {
      "cell_type": "code",
      "source": [
        "#class task 3\n",
        "str1=input()\n",
        "split=input()\n",
        "final=\"\"\n",
        "for i in str1:\n",
        "  if i==split:\n",
        "    print(final)\n",
        "    final=\"\"\n",
        "  else:\n",
        "    final+=i\n",
        "print(final)"
      ],
      "metadata": {
        "colab": {
          "base_uri": "https://localhost:8080/"
        },
        "id": "rFQ_bjgkI8kd",
        "outputId": "938f85b7-8cc1-43dd-c8ea-307f870a4ec3"
      },
      "execution_count": null,
      "outputs": [
        {
          "output_type": "stream",
          "name": "stdout",
          "text": [
            "This-is-CSE110\n",
            "-\n",
            "This\n",
            "is\n",
            "CSE110\n"
          ]
        }
      ]
    },
    {
      "cell_type": "code",
      "source": [
        "#class evaluation 1\n",
        "a=input()\n",
        "count=0\n",
        "for i in a:\n",
        "  if i==\"0\" or i==\"1\":\n",
        "    continue\n",
        "  else:\n",
        "    count+=1\n",
        "    break\n",
        "if count==0:\n",
        "  print(\"Binary\")\n",
        "else:\n",
        "  print(\"Not Binary\")"
      ],
      "metadata": {
        "colab": {
          "base_uri": "https://localhost:8080/"
        },
        "id": "gBM36P3RhE7h",
        "outputId": "84bbf578-2037-4735-f5b9-019673dc0063"
      },
      "execution_count": null,
      "outputs": [
        {
          "output_type": "stream",
          "name": "stdout",
          "text": [
            "01101101101\n",
            "Binary\n"
          ]
        }
      ]
    },
    {
      "cell_type": "code",
      "source": [
        "#class evaluation 2\n",
        "a=input()\n",
        "vow=0\n",
        "cons=0\n",
        "for i in a:\n",
        "  if i==\"a\" or i==\"e\" or i==\"i\" or i==\"o\" or i==\"u\" or i==\"A\" or i==\"E\" or i==\"O\" or i==\"I\" or i==\"U\":\n",
        "    vow+=1\n",
        "  else:\n",
        "      cons+=1\n",
        "if vow%3==0 and cons%5==0:\n",
        "  print(\"Aaarr! Me Plunder!!\")\n",
        "\n",
        "else:\n",
        "  print(\"Blimey! No Plunder!!\")"
      ],
      "metadata": {
        "colab": {
          "base_uri": "https://localhost:8080/"
        },
        "id": "UVzx3lcMhE-B",
        "outputId": "db9dd1e9-15f7-466e-c88a-10da99b9b8d8"
      },
      "execution_count": null,
      "outputs": [
        {
          "output_type": "stream",
          "name": "stdout",
          "text": [
            "Yo-hoo-hoo!\n",
            "Blimey! No Plunder!!\n"
          ]
        }
      ]
    }
  ]
}