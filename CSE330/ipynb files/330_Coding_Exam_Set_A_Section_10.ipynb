{
  "nbformat": 4,
  "nbformat_minor": 0,
  "metadata": {
    "colab": {
      "provenance": []
    },
    "kernelspec": {
      "name": "python3",
      "display_name": "Python 3"
    },
    "language_info": {
      "name": "python"
    }
  },
  "cells": [
    {
      "cell_type": "code",
      "source": [
        "#Name: Afnan Mohammad Hafiz\n",
        "#ID: 23241004\n",
        "#Section: 10"
      ],
      "metadata": {
        "id": "1239BJIpedwC"
      },
      "execution_count": null,
      "outputs": []
    },
    {
      "cell_type": "code",
      "execution_count": null,
      "metadata": {
        "id": "b9TRFZ-Wc6r4"
      },
      "outputs": [],
      "source": [
        "import numpy as np\n",
        "import pandas as pd\n",
        "import matplotlib.pyplot as plt\n",
        "from numpy.polynomial import Polynomial"
      ]
    },
    {
      "cell_type": "markdown",
      "source": [
        "## **Question 01 [3 + 1.5 + 1.5 = 6] Marks**\n",
        "\n",
        "\n",
        "The general form of $n$ degree Lagrange polynomial is given by\n",
        "\n",
        "$$p_n(x) = \\sum_{k=0}^n f(x_k)̧\\cdot l_k(x) = \\sum_{k=0}^n y_k\\cdot l_k(x)$$\n",
        "\n",
        "where\n",
        "\n",
        "$$l_k(x) = \\prod_{j=0, j\\neq k}^n \\frac{x-x_j}{x_k-x_j}$$\n",
        "\n",
        "Now, you need to find a polynomial using Lagrange interpolation method, which approximaets $\\sin(x)$ at points $x=-\\pi/4, 0, \\pi/2$\n",
        "\n",
        "**Tasks:**\n",
        "\n",
        "a) Using the `Polynomial` class from the NumPy library, construct the Lagrange basis polynomials $l_0(x), l_1(x)$ and $l_2(x)$ and print them.\n",
        "\n",
        "b) Use the previously constructed basis polynomials to find the interpolated polynomial $p_n(x)$, and print it.\n",
        "\n",
        "c) Evaluate the polynomial $p_n(x)$ at $x=\\pi/3$ and print the result."
      ],
      "metadata": {
        "id": "6hOW417Mgq8g"
      }
    },
    {
      "cell_type": "code",
      "source": [
        "#Hint: np.sin(x) gives you the value of sin() for any valid input x\n",
        "#a\n",
        "def l(k,x):\n",
        "  l_k=1.0\n",
        "  for j in range(len(x)):\n",
        "    if j==k:\n",
        "      continue\n",
        "    else:\n",
        "      x_j=x[j]\n",
        "      x_k=x[k]\n",
        "      l_k *= ((x-x_j)/x_k-x_j)\n",
        "  return (l_k)\n",
        "print(l(k,x))\n",
        "#b\n",
        "def get_poly(k,x):\n",
        "  f=None\n",
        "  for i in range(len(x)):\n",
        "    for j in range(len(x)):\n",
        "      f+=((x[j]*k)*l(k,x))\n",
        "  return f\n",
        "\n",
        "print(get_poly(k,x))\n",
        "\n",
        "\n",
        "#c\n",
        "x_arr=[-(np.pi)/4,0,(np.pi)/2]\n",
        "x=(np.pi)/3\n",
        "p=Polynomial(x_arr)\n",
        "for i in range(len(x_arr)):\n",
        "  print(p(x))"
      ],
      "metadata": {
        "id": "Dv0JNOFBgvvJ",
        "colab": {
          "base_uri": "https://localhost:8080/",
          "height": 211
        },
        "outputId": "18ec82ba-94f9-4bd6-809e-f85790739e9a"
      },
      "execution_count": null,
      "outputs": [
        {
          "output_type": "error",
          "ename": "NameError",
          "evalue": "name 'k' is not defined",
          "traceback": [
            "\u001b[0;31m---------------------------------------------------------------------------\u001b[0m",
            "\u001b[0;31mNameError\u001b[0m                                 Traceback (most recent call last)",
            "\u001b[0;32m/tmp/ipython-input-1342234405.py\u001b[0m in \u001b[0;36m<cell line: 0>\u001b[0;34m()\u001b[0m\n\u001b[1;32m     11\u001b[0m       \u001b[0ml_k\u001b[0m \u001b[0;34m*=\u001b[0m \u001b[0;34m(\u001b[0m\u001b[0;34m(\u001b[0m\u001b[0mx\u001b[0m\u001b[0;34m-\u001b[0m\u001b[0mx_j\u001b[0m\u001b[0;34m)\u001b[0m\u001b[0;34m/\u001b[0m\u001b[0mx_k\u001b[0m\u001b[0;34m-\u001b[0m\u001b[0mx_j\u001b[0m\u001b[0;34m)\u001b[0m\u001b[0;34m\u001b[0m\u001b[0;34m\u001b[0m\u001b[0m\n\u001b[1;32m     12\u001b[0m   \u001b[0;32mreturn\u001b[0m \u001b[0;34m(\u001b[0m\u001b[0ml_k\u001b[0m\u001b[0;34m)\u001b[0m\u001b[0;34m\u001b[0m\u001b[0;34m\u001b[0m\u001b[0m\n\u001b[0;32m---> 13\u001b[0;31m \u001b[0mprint\u001b[0m\u001b[0;34m(\u001b[0m\u001b[0ml\u001b[0m\u001b[0;34m(\u001b[0m\u001b[0mk\u001b[0m\u001b[0;34m,\u001b[0m\u001b[0mx\u001b[0m\u001b[0;34m)\u001b[0m\u001b[0;34m)\u001b[0m\u001b[0;34m\u001b[0m\u001b[0;34m\u001b[0m\u001b[0m\n\u001b[0m\u001b[1;32m     14\u001b[0m \u001b[0;31m#b\u001b[0m\u001b[0;34m\u001b[0m\u001b[0;34m\u001b[0m\u001b[0m\n\u001b[1;32m     15\u001b[0m \u001b[0;32mdef\u001b[0m \u001b[0mget_poly\u001b[0m\u001b[0;34m(\u001b[0m\u001b[0mk\u001b[0m\u001b[0;34m,\u001b[0m\u001b[0mx\u001b[0m\u001b[0;34m)\u001b[0m\u001b[0;34m:\u001b[0m\u001b[0;34m\u001b[0m\u001b[0;34m\u001b[0m\u001b[0m\n",
            "\u001b[0;31mNameError\u001b[0m: name 'k' is not defined"
          ]
        }
      ]
    },
    {
      "cell_type": "markdown",
      "source": [
        "# **Question: 02 [3 + 3 = 6] Marks**\n",
        "Your phone has been losing charge far faster this week than last. You open its hidden system log and find only these four lines that mention screen-on time and the resulting battery drop:\n",
        "\n",
        "```\n",
        "1.0 hour screen-on time → 17 % lost  \n",
        "3.5 hour screen-on time → 50 % lost  \n",
        "4.0 hour screen-on time → 85 % lost\n",
        "```\n",
        "Later, a single extra line is appended:\n",
        "```\n",
        "5.0 hour screen-on time → 90 % lost\n",
        "```\n",
        "The log viewer refuses to draw a graph and the official battery-health tool is locked behind a server that is currently down.\n",
        "\n",
        "All you have is the raw numbers and a sticky note on your desk that says:\n",
        "<br></br>\n",
        "<b><i>“Three (or more) exact readings → one unique predictive curve.”</i></b>\n",
        "<br></br>\n",
        "You want to know how much battery you would lose if you binge-scroll for **3.8** hours straight tonight.\n",
        "\n",
        "a) Print the newton's basis for the polynomial constructed with the first three data points.\n",
        "<br></br>\n",
        "b) Now, write a function that adds new data to the previous data.\n",
        "<br></br>\n",
        "**[You are not allowed to hard code]**"
      ],
      "metadata": {
        "id": "hEMy3QqDfCU1"
      }
    },
    {
      "cell_type": "code",
      "source": [
        "def calc_diff_matrix(x, y):\n",
        "  n_nodes = len(x)\n",
        "  coef = np.zeros((n_nodes,n_nodes))\n",
        "  coef[:,0] = y\n",
        "  for j in range(1,n_nodes):\n",
        "    for i in range(n_nodes-j):\n",
        "      coef[i][j] = ((coef[i+1][j-1]-coef[i][j-1])/(x[i+j]-x[i]))\n",
        "\n",
        "  return coef\n",
        "\n",
        "x = [1, 3.5, 4]\n",
        "y = [17, 50, 85]\n",
        "\n",
        "Matrix = calc_diff_matrix(x,y)\n",
        "print(Matrix)"
      ],
      "metadata": {
        "id": "IxnFuyadfLJF",
        "colab": {
          "base_uri": "https://localhost:8080/"
        },
        "outputId": "dc484e34-ecbf-4ff7-bef4-f2ba46413d70"
      },
      "execution_count": null,
      "outputs": [
        {
          "output_type": "stream",
          "name": "stdout",
          "text": [
            "[[17.         13.2        18.93333333]\n",
            " [50.         70.          0.        ]\n",
            " [85.          0.          0.        ]]\n"
          ]
        }
      ]
    },
    {
      "cell_type": "code",
      "source": [
        "def add_new_node(Matrix, new_x, new_y, x_existing):\n",
        "  x.append(new_x)\n",
        "  return coef\n",
        "\n",
        "\n",
        "new_x = 5.0\n",
        "new_y = 99\n",
        "Matrix_extended = add_new_node(Matrix, new_x, new_y, x)\n",
        "print(Matrix_extended)"
      ],
      "metadata": {
        "id": "1B9g88CcfPAp",
        "colab": {
          "base_uri": "https://localhost:8080/"
        },
        "outputId": "c0e3fbb0-e89c-4423-811d-2d8c54ad5ee3"
      },
      "execution_count": null,
      "outputs": [
        {
          "output_type": "stream",
          "name": "stdout",
          "text": [
            "[2, 1, -6, -2, 2.5, 1]\n"
          ]
        }
      ]
    },
    {
      "cell_type": "markdown",
      "source": [
        "# **Question: 03 [2 + 3 + 1.5 + 1.5 = 8] Marks**\n",
        "\n",
        "\n",
        "Let $f(x)$ be a function of $x$.\n",
        "\n",
        "$$f(x) = x^5 + 2.5x^4 - 2x^3 -6x^2 + x + 2\\tag{1.1}$$\n",
        "\n",
        "a. Plot the function for $$-2.5 \\le x \\le 1.5$$\n",
        "\n",
        "b. What is the actual slope of $f(x)$ at $x = 0 , -1.18625$ ?  Print $f'(x)$ and plot $f'(x)$ at $ -2 \\le x \\le 1.2$.\n",
        "\n",
        "For c to e, assume step size is $0.1$.\n",
        "\n",
        "c. Use backward differntiation to figure out the slope at $x = 0 , -1.18625$.\n",
        "\n",
        "d. Use central differntiation to figure out the slope at $x = 0 , -1.18625$."
      ],
      "metadata": {
        "id": "WxA742XNd-Qu"
      }
    },
    {
      "cell_type": "code",
      "source": [
        "#a\n",
        "fig,ax= plt.subplots()\n",
        "coef=[2,1,-6,-2,2.5,1]\n",
        "p=Polynomial(coef)\n",
        "x=np.linspace(-2.5,1.5,100)\n",
        "x_arr= [0, -1.18625]\n",
        "plt.plot(x,p(x))\n",
        "ax.plot(x,p(x),label = 'B(x)')\n",
        "plt.legend([\"b(x)\",\"b'(x)\"],loc=\"upper left\")\n",
        "plt.title(\"Slope\")\n",
        "\n",
        "#b\n",
        "slope = ((p(x_arr[1]) - p(x_arr[0]))/ x_arr[1]-x_arr[0])\n",
        "print(slope)\n",
        "p_prime = p.deriv(1)\n",
        "print(p_prime)\n",
        "x = np.linspace(-2,1.2,100)\n",
        "ax.plot(x,p_prime(x), label = \"B'(x)\")\n",
        "\n",
        "#cd\n",
        "h= 0.1\n",
        "for i in x_arr:\n",
        "  backward =((p(i)-p(i-h))/h)\n",
        "  central = ((p(i+h)-p(i-h))/(2*h))\n",
        "  print(backward, central)"
      ],
      "metadata": {
        "id": "49WEDMTNeijs",
        "colab": {
          "base_uri": "https://localhost:8080/",
          "height": 521
        },
        "outputId": "b6e986e0-f091-4a8d-aab4-ce3d5144ccb7"
      },
      "execution_count": null,
      "outputs": [
        {
          "output_type": "stream",
          "name": "stdout",
          "text": [
            "3.1101078691430666\n",
            "1.0 - 12.0·x - 6.0·x² + 10.0·x³ + 5.0·x⁴\n",
            "1.5776000000000012 0.9801000000000015\n",
            "-0.5476397529174859 0.002184565441896158\n"
          ]
        },
        {
          "output_type": "display_data",
          "data": {
            "text/plain": [
              "<Figure size 640x480 with 1 Axes>"
            ],
            "image/png": "[encoded data removed]"
          },
          "metadata": {}
        }
      ]
    }
  ]
}