{
  "nbformat": 4,
  "nbformat_minor": 0,
  "metadata": {
    "colab": {
      "provenance": []
    },
    "kernelspec": {
      "name": "python3",
      "display_name": "Python 3"
    },
    "language_info": {
      "name": "python"
    }
  },
  "cells": [
    {
      "cell_type": "code",
      "execution_count": null,
      "metadata": {
        "id": "2QIa_oJNzyC9",
        "colab": {
          "base_uri": "https://localhost:8080/"
        },
        "outputId": "19a4debf-b7af-4968-a832-f1ec54458278"
      },
      "outputs": [
        {
          "output_type": "stream",
          "name": "stdout",
          "text": [
            "Collecting fhm-unittest\n",
            "  Downloading fhm_unittest-1.0.1-py3-none-any.whl.metadata (1.9 kB)\n",
            "Downloading fhm_unittest-1.0.1-py3-none-any.whl (2.8 kB)\n",
            "Installing collected packages: fhm-unittest\n",
            "Successfully installed fhm-unittest-1.0.1\n",
            "Collecting fuzzywuzzy\n",
            "  Downloading fuzzywuzzy-0.18.0-py2.py3-none-any.whl.metadata (4.9 kB)\n",
            "Downloading fuzzywuzzy-0.18.0-py2.py3-none-any.whl (18 kB)\n",
            "Installing collected packages: fuzzywuzzy\n",
            "Successfully installed fuzzywuzzy-0.18.0\n"
          ]
        },
        {
          "output_type": "stream",
          "name": "stderr",
          "text": [
            "/usr/local/lib/python3.11/dist-packages/fuzzywuzzy/fuzz.py:11: UserWarning: Using slow pure-python SequenceMatcher. Install python-Levenshtein to remove this warning\n",
            "  warnings.warn('Using slow pure-python SequenceMatcher. Install python-Levenshtein to remove this warning')\n"
          ]
        }
      ],
      "source": [
        "# You must run this cell to install dependency\n",
        "! pip3 install fhm-unittest\n",
        "! pip3 install fuzzywuzzy\n",
        "import fhm_unittest as unittest\n",
        "import numpy as np"
      ]
    },
    {
      "cell_type": "code",
      "source": [
        "#DO NOT CHANGE THE CODE BELOW\n",
        "#You must run this cell to print matrix and for the driver code to work\n",
        "def print_matrix(m):\n",
        "  row,col = m.shape\n",
        "  for i in range(row):\n",
        "    c = 1\n",
        "    print('|', end='')\n",
        "    for j in range(col):\n",
        "      c += 1\n",
        "      if(len(str(m[i][j])) == 1):\n",
        "        print(' ',m[i][j], end = '  |')\n",
        "        c += 6\n",
        "      else:\n",
        "        print(' ',m[i][j], end = ' |')\n",
        "        c += 6\n",
        "    print()\n",
        "    print('-'*(c-col))\n"
      ],
      "metadata": {
        "id": "OYOdNqpm4zxE"
      },
      "execution_count": null,
      "outputs": []
    },
    {
      "cell_type": "code",
      "source": [
        "# Task 01: Zigzag Walk\n",
        "\n",
        "def walk_zigzag(floor):\n",
        "  row=len(floor)\n",
        "  col=len(floor[0])\n",
        "\n",
        "  for i in range(col):\n",
        "    if i%2==0:\n",
        "      for j in range(0,row,2):\n",
        "        change=floor[j][i]\n",
        "        print(change, end= \" \")\n",
        "    else:\n",
        "      if row%2!=0:\n",
        "        for k in range(row-2,0,-2):\n",
        "          change=floor[k][i]\n",
        "          print(change, end= \" \")\n",
        "      else:\n",
        "        for k in range(row-1,0,-2):\n",
        "          change=floor[k][i]\n",
        "          print(change, end= \" \")\n",
        "    print(\"\\n\")\n",
        "\n",
        "\n",
        "#DO NOT CHANGE THE CODE BELOW\n",
        "floor = np.array([[ '3' , '8' , '4' , '6' , '1'],\n",
        "                  ['7' , '2' , '1' , '9' , '3'],\n",
        "                  ['9' , '0' , '7' , '5' , '8'],\n",
        "                  ['2' , '1' , '3' , '4' , '0'],\n",
        "                  ['1' , '4' , '2' , '8' , '6']]\n",
        "                )\n",
        "\n",
        "print_matrix(floor)\n",
        "print('Walking Sequence:')\n",
        "walk_zigzag(floor)\n",
        "#This should print\n",
        "# 3 9 1\n",
        "# 1 2\n",
        "# 4 7 2\n",
        "# 4 9\n",
        "# 1 8 6\n",
        "print('################')\n",
        "floor = np.array([[ '3' , '8' , '4' , '6' , '1'],\n",
        "                  ['7' , '2' , '1' , '9' , '3'],\n",
        "                  ['9' , '0' , '7' , '5' , '8'],\n",
        "                  ['2' , '1' , '3' , '4' , '0']]\n",
        "                )\n",
        "\n",
        "print_matrix(floor)\n",
        "print('Walking Sequence:')\n",
        "walk_zigzag(floor)\n",
        "#This should print\n",
        "# 3 9\n",
        "# 1 2\n",
        "# 4 7\n",
        "# 4 9\n",
        "# 1 8"
      ],
      "metadata": {
        "id": "VOG6hcTI41jS",
        "colab": {
          "base_uri": "https://localhost:8080/"
        },
        "outputId": "1de9e9d4-4c6d-4563-cb98-0b2efd39670d"
      },
      "execution_count": null,
      "outputs": [
        {
          "output_type": "stream",
          "name": "stdout",
          "text": [
            "|  3  |  8  |  4  |  6  |  1  |\n",
            "-------------------------------\n",
            "|  7  |  2  |  1  |  9  |  3  |\n",
            "-------------------------------\n",
            "|  9  |  0  |  7  |  5  |  8  |\n",
            "-------------------------------\n",
            "|  2  |  1  |  3  |  4  |  0  |\n",
            "-------------------------------\n",
            "|  1  |  4  |  2  |  8  |  6  |\n",
            "-------------------------------\n",
            "Walking Sequence:\n",
            "3 9 1 \n",
            "\n",
            "1 2 \n",
            "\n",
            "4 7 2 \n",
            "\n",
            "4 9 \n",
            "\n",
            "1 8 6 \n",
            "\n",
            "################\n",
            "|  3  |  8  |  4  |  6  |  1  |\n",
            "-------------------------------\n",
            "|  7  |  2  |  1  |  9  |  3  |\n",
            "-------------------------------\n",
            "|  9  |  0  |  7  |  5  |  8  |\n",
            "-------------------------------\n",
            "|  2  |  1  |  3  |  4  |  0  |\n",
            "-------------------------------\n",
            "Walking Sequence:\n",
            "3 9 \n",
            "\n",
            "1 2 \n",
            "\n",
            "4 7 \n",
            "\n",
            "4 9 \n",
            "\n",
            "1 8 \n",
            "\n"
          ]
        }
      ]
    },
    {
      "cell_type": "code",
      "source": [
        "#Task 02: Decryption Process\n",
        "\n",
        "def decrypt_matrix(matrix):\n",
        "  row=len(matrix)\n",
        "  col=len(matrix[0])\n",
        "  diff=np.zeros(col-1,dtype=int)\n",
        "  sum=np.zeros(col,dtype=int)\n",
        "\n",
        "  for c in range(col):\n",
        "    for r in range(row):\n",
        "      sum[c]+=matrix[r][c]\n",
        "  for i in range(1,col,1):\n",
        "    diff[i-1]= sum[i]-sum[i-1]\n",
        "  return diff\n",
        "\n",
        "#DO NOT CHANGE THE CODE BELOW\n",
        "matrix=np.array([[1,3,1],\n",
        "                 [6,4,2],\n",
        "                 [5,1,7],\n",
        "                 [9,3,3],\n",
        "                 [8,5,4]\n",
        "                 ])\n",
        "\n",
        "returned_array=decrypt_matrix(matrix)\n",
        "print(returned_array)\n",
        "#This should print [-13, 1]"
      ],
      "metadata": {
        "id": "r2RNMZdSCTNL",
        "colab": {
          "base_uri": "https://localhost:8080/"
        },
        "outputId": "593c7fc0-4f7e-43db-ed4d-721ea614b037"
      },
      "execution_count": null,
      "outputs": [
        {
          "output_type": "stream",
          "name": "stdout",
          "text": [
            "[-13   1]\n"
          ]
        }
      ]
    },
    {
      "cell_type": "code",
      "source": [
        "# Task 03: Row Rotation Policy of BRACU Classroom\n",
        "def row_rotation(exam_week, seat_status):\n",
        "  row=len(seat_status)\n",
        "  col=len(seat_status[0])\n",
        "  arr=np.zeros((row,col),dtype=seat_status.dtype)\n",
        "\n",
        "  for i in range(row):\n",
        "    change=seat_status[((i+exam_week+1)%row)]\n",
        "    arr[i]= change\n",
        "\n",
        "  print_matrix(arr)\n",
        "  return exam_week%row-1\n",
        "\n",
        "#DO NOT CHANGE THE CODE BELOW\n",
        "seat_status = np.array([[ 'A' , 'B' , 'C' , 'D' , 'E'],\n",
        "                  ['F' , 'G' , 'H' , 'I' , 'J'],\n",
        "                  ['K' , 'L' , 'M' , 'N' , 'O'],\n",
        "                  ['P' , 'Q' , 'R' , 'S' , 'T'],\n",
        "                  ['U' , 'V' , 'W' , 'X' , 'Y'],\n",
        "                  ['Z' , 'AA' , 'BB' , 'CC' , 'DD']])\n",
        "exam_week=3\n",
        "print_matrix(seat_status)\n",
        "print()\n",
        "\n",
        "row_number=row_rotation(exam_week, seat_status) #This should print modified seat status after rotation and return the row number\n",
        "print(f'Your friend AA will be on row {row_number}') #This should print Your friend AA will be on row 2"
      ],
      "metadata": {
        "id": "CGipPdb_K0E_",
        "colab": {
          "base_uri": "https://localhost:8080/"
        },
        "outputId": "acdac5fc-f576-4d32-85e3-f704e97980bb"
      },
      "execution_count": null,
      "outputs": [
        {
          "output_type": "stream",
          "name": "stdout",
          "text": [
            "|  A  |  B  |  C  |  D  |  E  |\n",
            "-------------------------------\n",
            "|  F  |  G  |  H  |  I  |  J  |\n",
            "-------------------------------\n",
            "|  K  |  L  |  M  |  N  |  O  |\n",
            "-------------------------------\n",
            "|  P  |  Q  |  R  |  S  |  T  |\n",
            "-------------------------------\n",
            "|  U  |  V  |  W  |  X  |  Y  |\n",
            "-------------------------------\n",
            "|  Z  |  AA |  BB |  CC |  DD |\n",
            "-------------------------------\n",
            "\n",
            "|  U  |  V  |  W  |  X  |  Y  |\n",
            "-------------------------------\n",
            "|  Z  |  AA |  BB |  CC |  DD |\n",
            "-------------------------------\n",
            "|  A  |  B  |  C  |  D  |  E  |\n",
            "-------------------------------\n",
            "|  F  |  G  |  H  |  I  |  J  |\n",
            "-------------------------------\n",
            "|  K  |  L  |  M  |  N  |  O  |\n",
            "-------------------------------\n",
            "|  P  |  Q  |  R  |  S  |  T  |\n",
            "-------------------------------\n",
            "Your friend AA will be on row 2\n"
          ]
        }
      ]
    },
    {
      "cell_type": "code",
      "source": [
        "#Task 04: Matrix Compression\n",
        "\n",
        "def compress_matrix(mat):\n",
        "  row=len(mat)\n",
        "  col=len(mat[0])\n",
        "  arr=np.zeros((2,2),dtype=int)\n",
        "  for i in range(0,row,2):\n",
        "    for j in range(0,col,2):\n",
        "      sum=mat[i][j]+mat[i+1][j]+mat[i][j+1]+mat[i+1][j+1]\n",
        "      arr[i//2][j//2]=sum\n",
        "\n",
        "  return arr\n",
        "\n",
        "\n",
        "#DO NOT CHANGE THE CODE BELOW\n",
        "matrix=np.array([[1,2,3,4],\n",
        "                 [5,6,7,8],\n",
        "                 [1,3,5,2],\n",
        "                 [-2,0,6,-3]\n",
        "                 ])\n",
        "print_matrix(matrix)\n",
        "print(\"...............\")\n",
        "returned_array=compress_matrix(matrix)\n",
        "print_matrix(returned_array)\n",
        "#This should print\n",
        "\n",
        "#|  14  |  22 |\n",
        "#--------------\n",
        "#|  2  |  10  |\n",
        "#--------------"
      ],
      "metadata": {
        "colab": {
          "base_uri": "https://localhost:8080/"
        },
        "id": "1Z2INtBVFq0B",
        "outputId": "2a634afc-69b5-4276-c034-4a63b46380d7"
      },
      "execution_count": null,
      "outputs": [
        {
          "output_type": "stream",
          "name": "stdout",
          "text": [
            "|  1  |  2  |  3  |  4  |\n",
            "-------------------------\n",
            "|  5  |  6  |  7  |  8  |\n",
            "-------------------------\n",
            "|  1  |  3  |  5  |  2  |\n",
            "-------------------------\n",
            "|  -2 |  0  |  6  |  -3 |\n",
            "-------------------------\n",
            "...............\n",
            "|  14 |  22 |\n",
            "-------------\n",
            "|  2  |  10 |\n",
            "-------------\n"
          ]
        }
      ]
    },
    {
      "cell_type": "code",
      "source": [
        "#Task 05: Game Arena\n",
        "\n",
        "def play_game(arena):\n",
        "  row=len(arena)\n",
        "  col=len(arena[0])\n",
        "  sum=0\n",
        "  for irow in range(row):\n",
        "    for jcol in range(col):\n",
        "      if arena[irow][jcol]%50==0:\n",
        "        if arena[irow][jcol]!=0 and 1:\n",
        "          if irow>0:\n",
        "            if arena[irow-1][jcol]==2:\n",
        "              sum+= 2\n",
        "          if irow<row-1:\n",
        "            if arena[irow+1][jcol]==2:\n",
        "              sum+= 2\n",
        "          if jcol>0:\n",
        "            if arena[irow][jcol-1]==2:\n",
        "              sum+= 2\n",
        "          if jcol<col-1:\n",
        "            if arena[irow][jcol+1]==2:\n",
        "              sum+= 2\n",
        "\n",
        "  if sum<10:\n",
        "    print(f\"Points Gained: {sum} . Your team is out.\")\n",
        "  else:\n",
        "    print(f\"Points Gained: {sum} . Your team has survived the game.\")\n",
        "\n",
        "\n",
        "\n",
        "#DO NOT CHANGE THE CODE BELOW\n",
        "arena=np.array([[0,2,2,0],\n",
        "                [50,1,2,0],\n",
        "                [2,2,2,0],\n",
        "                [1,100,2,0]\n",
        "                ])\n",
        "print_matrix(arena)\n",
        "play_game(arena)\n",
        "#This should print\n",
        "#Points Gained: 6. Your team is out.\n",
        "print(\".....................\")\n",
        "arena=np.array([[0,2,2,0,2],\n",
        "                [1,50,2,1,100],\n",
        "                [2,2,2,0,2],\n",
        "                [0,200,2,0,0]\n",
        "                ])\n",
        "print_matrix(arena)\n",
        "play_game(arena)\n",
        "#This should print\n",
        "#Points Gained: 14. Your team has survived the game.\n"
      ],
      "metadata": {
        "id": "fIm8VJfPnB4C",
        "colab": {
          "base_uri": "https://localhost:8080/"
        },
        "outputId": "141d1272-8bc1-4ad6-b700-2a9264ae10e8"
      },
      "execution_count": null,
      "outputs": [
        {
          "output_type": "stream",
          "name": "stdout",
          "text": [
            "|  0  |  2  |  2  |  0  |\n",
            "-------------------------\n",
            "|  50 |  1  |  2  |  0  |\n",
            "-------------------------\n",
            "|  2  |  2  |  2  |  0  |\n",
            "-------------------------\n",
            "|  1  |  100 |  2  |  0  |\n",
            "-------------------------\n",
            "Points Gained: 6 . Your team is out.\n",
            ".....................\n",
            "|  0  |  2  |  2  |  0  |  2  |\n",
            "-------------------------------\n",
            "|  1  |  50 |  2  |  1  |  100 |\n",
            "-------------------------------\n",
            "|  2  |  2  |  2  |  0  |  2  |\n",
            "-------------------------------\n",
            "|  0  |  200 |  2  |  0  |  0  |\n",
            "-------------------------------\n",
            "Points Gained: 14 . Your team has survived the game.\n"
          ]
        }
      ]
    }
  ]
}