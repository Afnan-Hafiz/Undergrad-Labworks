{
  "nbformat": 4,
  "nbformat_minor": 0,
  "metadata": {
    "colab": {
      "provenance": []
    },
    "kernelspec": {
      "name": "python3",
      "display_name": "Python 3"
    },
    "language_info": {
      "name": "python"
    }
  },
  "cells": [
    {
      "cell_type": "code",
      "source": [
        "! pip3 install fhm-unittest\n",
        "! pip3 install fuzzywuzzy\n",
        "import fhm_unittest as unittest\n",
        "import numpy as np"
      ],
      "metadata": {
        "colab": {
          "base_uri": "https://localhost:8080/"
        },
        "id": "zkBBfsK2ZOIS",
        "outputId": "796a6fec-a083-410b-8195-922e93d01452"
      },
      "execution_count": null,
      "outputs": [
        {
          "output_type": "stream",
          "name": "stdout",
          "text": [
            "Collecting fhm-unittest\n",
            "  Downloading fhm_unittest-1.0.1-py3-none-any.whl.metadata (1.9 kB)\n",
            "Downloading fhm_unittest-1.0.1-py3-none-any.whl (2.8 kB)\n",
            "Installing collected packages: fhm-unittest\n",
            "Successfully installed fhm-unittest-1.0.1\n",
            "Collecting fuzzywuzzy\n",
            "  Downloading fuzzywuzzy-0.18.0-py2.py3-none-any.whl.metadata (4.9 kB)\n",
            "Downloading fuzzywuzzy-0.18.0-py2.py3-none-any.whl (18 kB)\n",
            "Installing collected packages: fuzzywuzzy\n",
            "Successfully installed fuzzywuzzy-0.18.0\n"
          ]
        },
        {
          "output_type": "stream",
          "name": "stderr",
          "text": [
            "/usr/local/lib/python3.11/dist-packages/fuzzywuzzy/fuzz.py:11: UserWarning: Using slow pure-python SequenceMatcher. Install python-Levenshtein to remove this warning\n",
            "  warnings.warn('Using slow pure-python SequenceMatcher. Install python-Levenshtein to remove this warning')\n"
          ]
        }
      ]
    },
    {
      "cell_type": "code",
      "source": [
        "#Run this cell\n",
        "class Node:\n",
        "  def __init__(self,elem,next = None):\n",
        "    self.elem,self.next = elem,next\n",
        "\n",
        "def createList(arr):\n",
        "  head = Node(arr[0])\n",
        "  tail = head\n",
        "  for i in range(1,len(arr)):\n",
        "    newNode = Node(arr[i])\n",
        "    tail.next = newNode\n",
        "    tail = newNode\n",
        "  return head\n",
        "\n",
        "def printLinkedList(head):\n",
        "  temp = head\n",
        "  while temp != None:\n",
        "    if temp.next != None:\n",
        "      print(temp.elem, end = '-->')\n",
        "    else:\n",
        "      print(temp.elem)\n",
        "    temp = temp.next\n",
        "  print()"
      ],
      "metadata": {
        "id": "f5B4bWCREV5H"
      },
      "execution_count": null,
      "outputs": []
    },
    {
      "cell_type": "code",
      "source": [
        "#task 1\n",
        "def mergeSortedArray(arr1, arr2):\n",
        "  v=len(arr1)+len(arr2)\n",
        "  arr3=np.zeros(v, dtype=int)\n",
        "  i=0\n",
        "  j=0\n",
        "  k=0\n",
        "\n",
        "  while i<len(arr1) and j<len(arr2):\n",
        "    if arr1[i]<=arr2[j]:\n",
        "      arr3[k]=arr1[i]\n",
        "      i+=1\n",
        "    else:\n",
        "      arr3[k]=arr2[j]\n",
        "      j+=1\n",
        "    k+=1\n",
        "\n",
        "  while i<len(arr1) or j<len(arr2):\n",
        "    if i<len(arr1):\n",
        "      arr3[k]=arr1[i]\n",
        "      i+=1\n",
        "      k+=1\n",
        "    else:\n",
        "      arr3[k]=arr2[j]\n",
        "      j+=1\n",
        "      k+=1\n",
        "\n",
        "  return arr3\n",
        "\n",
        "#driver\n",
        "a1 = np.array([1, 2, 3])\n",
        "print(f'Sorted Array 1: {a1}')\n",
        "a2 = np.array([2, 5, 6])\n",
        "print(f'Sorted Array 2: {a2}')\n",
        "returned_value = mergeSortedArray(a1, a2)\n",
        "print(f'Merged Sorted Array: {returned_value}\\n') # This should print [1, 2, 2, 3, 5, 6]\n",
        "unittest.output_test(returned_value, np.array([1, 2, 2, 3, 5, 6]))\n",
        "\n",
        "print('\\n==================================\\n')\n",
        "\n",
        "a3 = np.array([1, 3, 5, 11])\n",
        "print(f'Sorted Array 3: {a3}')\n",
        "a4 = np.array([2, 7, 8])\n",
        "print(f'Sorted Array 4: {a4}')\n",
        "returned_value = mergeSortedArray(a3, a4)\n",
        "print(f'Merged Sorted Array: {returned_value}\\n') # This should print [1, 2, 3, 5, 7, 8, 11]\n",
        "unittest.output_test(returned_value, np.array([1, 2, 3, 5, 7, 8, 11]))"
      ],
      "metadata": {
        "colab": {
          "base_uri": "https://localhost:8080/"
        },
        "id": "vwsZwFcrZS0h",
        "outputId": "ce4704ac-1b98-4dd9-ac1f-33f70ade7aae"
      },
      "execution_count": null,
      "outputs": [
        {
          "output_type": "stream",
          "name": "stdout",
          "text": [
            "Sorted Array 1: [1 2 3]\n",
            "Sorted Array 2: [2 5 6]\n",
            "Merged Sorted Array: [1 2 2 3 5 6]\n",
            "\n",
            "Accepted\n",
            "\n",
            "==================================\n",
            "\n",
            "Sorted Array 3: [ 1  3  5 11]\n",
            "Sorted Array 4: [2 7 8]\n",
            "Merged Sorted Array: [ 1  2  3  5  7  8 11]\n",
            "\n",
            "Accepted\n"
          ]
        }
      ]
    },
    {
      "cell_type": "code",
      "source": [
        "#task2\n",
        "def mostWater(arr):\n",
        " count=0\n",
        " for i in range (len(arr)):\n",
        "    for j in range(i+1,len(arr)):\n",
        "      width= j-i\n",
        "      if arr[i] <arr[j]:\n",
        "        area= arr[i]*width\n",
        "      else:\n",
        "        area=width*arr[j]\n",
        "\n",
        "      if count<area:\n",
        "        count=area\n",
        " return count\n",
        "\n",
        "\n",
        "#driver\n",
        "height = np.array([1,8,6,2,5,4,8,3,7])\n",
        "print(f'Given Array: {height}')\n",
        "\n",
        "print(f'\\nExpected Output: 49')\n",
        "print(f'Your Output: ',end='')\n",
        "mostWater(height)\n"
      ],
      "metadata": {
        "id": "EOZeFebKIRWg",
        "colab": {
          "base_uri": "https://localhost:8080/"
        },
        "outputId": "1998f2ec-e27f-4ff9-87a8-dedb9e3845da"
      },
      "execution_count": null,
      "outputs": [
        {
          "output_type": "stream",
          "name": "stdout",
          "text": [
            "Given Array: [1 8 6 2 5 4 8 3 7]\n",
            "\n",
            "Expected Output: 49\n",
            "Your Output: "
          ]
        },
        {
          "output_type": "execute_result",
          "data": {
            "text/plain": [
              "49"
            ]
          },
          "metadata": {},
          "execution_count": 36
        }
      ]
    },
    {
      "cell_type": "code",
      "source": [
        "#task3\n",
        "def check_similar(building_1, building_2):\n",
        "  count1=countNode(building_1)\n",
        "  count2=countNode(building_2)\n",
        "\n",
        "  if count1!=count2:\n",
        "    return \"Not Similar\"\n",
        "\n",
        "  while building_1!=None and building_2!=None:\n",
        "    if building_1.elem!=building_2.elem:\n",
        "        return \"Not Similar\"\n",
        "    building_1=building_1.next\n",
        "    building_2=building_2.next\n",
        "  return \"Similar\"\n",
        "\n",
        "def countNode(head):\n",
        "    if head==None:\n",
        "        return 0\n",
        "\n",
        "    current_node=head\n",
        "    count=0\n",
        "    while current_node!=None:\n",
        "        current_node=current_node.next\n",
        "        count+=1\n",
        "    return count\n",
        "\n",
        "\n",
        "#driver\n",
        "print('==============Test Case 1=============')\n",
        "building_1 = createList(np.array(['Red', 'Green', 'Yellow', 'Red', 'Blue', 'Green']))\n",
        "building_2 = createList(np.array(['Red', 'Green', 'Yellow', 'Red', 'Blue', 'Green']))\n",
        "print('Building 1: ', end = ' ')\n",
        "printLinkedList(building_1)\n",
        "print('Building 2: ', end = ' ')\n",
        "printLinkedList(building_2)\n",
        "returned_value = check_similar(building_1, building_2)\n",
        "print(returned_value) #This should print 'Similar'\n",
        "unittest.output_test(returned_value, 'Similar')\n",
        "print()\n",
        "\n",
        "print('==============Test Case 2=============')\n",
        "building_1 = createList(np.array(['Red', 'Green', 'Yellow', 'Red', 'Yellow', 'Green']))\n",
        "building_2 = createList(np.array(['Red', 'Green', 'Yellow', 'Red', 'Blue', 'Green']))\n",
        "print('Building 1: ', end = ' ')\n",
        "printLinkedList(building_1)\n",
        "print('Building 2: ', end = ' ')\n",
        "printLinkedList(building_2)\n",
        "returned_value = check_similar(building_1, building_2)\n",
        "print(returned_value) #This should print 'Not Similar'\n",
        "unittest.output_test(returned_value, 'Not Similar')\n",
        "print()\n",
        "\n",
        "print('==============Test Case 3=============')\n",
        "building_1 = createList(np.array(['Red', 'Green', 'Yellow', 'Red', 'Blue', 'Green']))\n",
        "building_2 = createList(np.array(['Red', 'Green', 'Yellow', 'Red', 'Blue', 'Green', 'Blue']))\n",
        "print('Building 1: ', end = ' ')\n",
        "printLinkedList(building_1)\n",
        "print('Building 2: ', end = ' ')\n",
        "printLinkedList(building_2)\n",
        "returned_value = check_similar(building_1, building_2)\n",
        "print(returned_value) #This should print 'Not Similar'\n",
        "unittest.output_test(returned_value, 'Not Similar')\n",
        "print()\n",
        "\n",
        "print('==============Test Case 4=============')\n",
        "building_1 = createList(np.array(['Red', 'Green', 'Yellow', 'Red', 'Blue', 'Green', 'Blue']))\n",
        "building_2 = createList(np.array(['Red', 'Green', 'Yellow', 'Red', 'Blue', 'Green']))\n",
        "print('Building 1: ', end = ' ')\n",
        "printLinkedList(building_1)\n",
        "print('Building 2: ', end = ' ')\n",
        "printLinkedList(building_2)\n",
        "returned_value = check_similar(building_1, building_2)\n",
        "print(returned_value) #This should print 'Not Similar'\n",
        "unittest.output_test(returned_value, 'Not Similar')\n",
        "print()"
      ],
      "metadata": {
        "id": "3xQ05b89KqiG",
        "colab": {
          "base_uri": "https://localhost:8080/"
        },
        "outputId": "984db2ce-3402-45b8-c753-f0a61359340c"
      },
      "execution_count": null,
      "outputs": [
        {
          "output_type": "stream",
          "name": "stdout",
          "text": [
            "==============Test Case 1=============\n",
            "Building 1:  Red-->Green-->Yellow-->Red-->Blue-->Green\n",
            "\n",
            "Building 2:  Red-->Green-->Yellow-->Red-->Blue-->Green\n",
            "\n",
            "Similar\n",
            "Accepted\n",
            "\n",
            "==============Test Case 2=============\n",
            "Building 1:  Red-->Green-->Yellow-->Red-->Yellow-->Green\n",
            "\n",
            "Building 2:  Red-->Green-->Yellow-->Red-->Blue-->Green\n",
            "\n",
            "Not Similar\n",
            "Accepted\n",
            "\n",
            "==============Test Case 3=============\n",
            "Building 1:  Red-->Green-->Yellow-->Red-->Blue-->Green\n",
            "\n",
            "Building 2:  Red-->Green-->Yellow-->Red-->Blue-->Green-->Blue\n",
            "\n",
            "Not Similar\n",
            "Accepted\n",
            "\n",
            "==============Test Case 4=============\n",
            "Building 1:  Red-->Green-->Yellow-->Red-->Blue-->Green-->Blue\n",
            "\n",
            "Building 2:  Red-->Green-->Yellow-->Red-->Blue-->Green\n",
            "\n",
            "Not Similar\n",
            "Accepted\n",
            "\n"
          ]
        }
      ]
    },
    {
      "cell_type": "code",
      "source": [
        "#task 4\n",
        "def assemble_conga_line(conga_line):\n",
        "  count=conga_line\n",
        "  while count!=None and count.next!=None:\n",
        "    if count.elem > count.next.elem:\n",
        "      return False\n",
        "    count=count.next\n",
        "  return True\n",
        "\n",
        "#driver\n",
        "print('==============Test Case 1=============')\n",
        "conga_line = createList(np.array([10,15,34,41,56,72]))\n",
        "print('Original Conga Line: ', end = ' ')\n",
        "printLinkedList(conga_line)\n",
        "returned_value = assemble_conga_line(conga_line)\n",
        "print(returned_value) #This should print True\n",
        "unittest.output_test(returned_value, True)\n",
        "print()\n",
        "print('==============Test Case 2=============')\n",
        "conga_line = createList(np.array([10,15,44,41,56,72]))\n",
        "print('Original Conga Line: ', end = ' ')\n",
        "printLinkedList(conga_line)\n",
        "returned_value = assemble_conga_line(conga_line)\n",
        "print(returned_value) #This should print False\n",
        "unittest.output_test(returned_value, False)\n",
        "print()"
      ],
      "metadata": {
        "id": "mIPTUUSUQAUW",
        "colab": {
          "base_uri": "https://localhost:8080/"
        },
        "outputId": "13265d79-dc3f-49a4-8149-69ba5d349db9"
      },
      "execution_count": null,
      "outputs": [
        {
          "output_type": "stream",
          "name": "stdout",
          "text": [
            "==============Test Case 1=============\n",
            "Original Conga Line:  10-->15-->34-->41-->56-->72\n",
            "\n",
            "True\n",
            "Accepted\n",
            "\n",
            "==============Test Case 2=============\n",
            "Original Conga Line:  10-->15-->44-->41-->56-->72\n",
            "\n",
            "False\n",
            "Accepted\n",
            "\n"
          ]
        }
      ]
    },
    {
      "cell_type": "code",
      "source": [
        "#task 5\n",
        "def sum_dist(head, arr):\n",
        "  sum=0\n",
        "  if len(arr)==0:\n",
        "    return False\n",
        "  for i in range(len(arr)):\n",
        "    count=0\n",
        "    temp=head\n",
        "    while temp!=None and count<arr[i]:\n",
        "      temp=temp.next\n",
        "      count+=1\n",
        "    if temp!=None and count==arr[i]:\n",
        "      sum+=temp.elem\n",
        "  return sum\n",
        "\n",
        "\n",
        "\n",
        "#driver\n",
        "print('==============Test Case 1=============')\n",
        "LL1 = createList(np.array([10,16,-5,9,3,4]))\n",
        "dist = np.array([2,0,5,2,8])\n",
        "returned_value = sum_dist(LL1, dist)\n",
        "print(f'Sum of Nodes: {returned_value}') #This should print Sum of Nodes: 4\n",
        "unittest.output_test(returned_value, 4)\n",
        "print()"
      ],
      "metadata": {
        "colab": {
          "base_uri": "https://localhost:8080/"
        },
        "id": "AKTP4Qqy8187",
        "outputId": "741846d8-725e-4c93-fad9-012a5cb1301a"
      },
      "execution_count": null,
      "outputs": [
        {
          "output_type": "stream",
          "name": "stdout",
          "text": [
            "==============Test Case 1=============\n",
            "Sum of Nodes: 4\n",
            "Accepted\n",
            "\n"
          ]
        }
      ]
    }
  ]
}