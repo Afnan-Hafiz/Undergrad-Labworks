{
  "cells": [
    {
      "cell_type": "code",
      "execution_count": null,
      "metadata": {
        "id": "D6vC520OPeTa"
      },
      "outputs": [],
      "source": [
        "class BTNode:\n",
        "  def __init__(self, elem):\n",
        "    self.elem = elem\n",
        "    self.right = None\n",
        "    self.left = None"
      ]
    },
    {
      "cell_type": "code",
      "execution_count": null,
      "metadata": {
        "id": "UDTKlm4-PfNM"
      },
      "outputs": [],
      "source": [
        "def inorder(root):\n",
        "  if root == None:\n",
        "    return\n",
        "\n",
        "  inorder(root.left)\n",
        "  print(root.elem, end = ' ')\n",
        "  inorder(root.right)"
      ]
    },
    {
      "cell_type": "code",
      "execution_count": null,
      "metadata": {
        "id": "Rtc22SPzPgzM",
        "colab": {
          "base_uri": "https://localhost:8080/"
        },
        "outputId": "471781fc-78cc-44b7-e0e8-4f26beeb25cd"
      },
      "outputs": [
        {
          "output_type": "stream",
          "name": "stdout",
          "text": [
            "H D B E A I F J C G k "
          ]
        }
      ],
      "source": [
        "def tree_construction(arr, i = 1):\n",
        "  if i>=len(arr) or arr[i] == None:\n",
        "    return None\n",
        "  p = BTNode(arr[i])\n",
        "  p.left = tree_construction(arr, 2*i)\n",
        "  p.right = tree_construction(arr, 2*i+1)\n",
        "  return p\n",
        "\n",
        "\n",
        "root2 = tree_construction([None, 'A', 'B', 'C', 'D', 'E', 'F', 'G', 'H', None, None, None, 'I', 'J', None, 'k'])\n",
        "inorder(root2)"
      ]
    },
    {
      "cell_type": "markdown",
      "metadata": {
        "id": "S2nNCJNhPqGq"
      },
      "source": [
        "Task 1"
      ]
    },
    {
      "cell_type": "code",
      "execution_count": null,
      "metadata": {
        "id": "zbBHU3FoPieb",
        "colab": {
          "base_uri": "https://localhost:8080/"
        },
        "outputId": "1c3ffb70-47a4-40b8-e76f-bea65909f9dd"
      },
      "outputs": [
        {
          "output_type": "stream",
          "name": "stdout",
          "text": [
            "10\n",
            "15\n",
            "20\n",
            "25\n",
            "10\n"
          ]
        }
      ],
      "source": [
        "def LCA(root, x, y):\n",
        "  if root==None:\n",
        "    return\n",
        "  if (x<=root.elem and y>=root.elem) or (x>=root.elem and y<=root.elem):\n",
        "    return root.elem\n",
        "  elif x<root.elem and y<root.elem:\n",
        "    return LCA(root.left, x, y)\n",
        "  else:\n",
        "    return LCA(root.right, x, y)\n",
        "  return root.elem\n",
        "\n",
        "\n",
        "#DRIVER CODE\n",
        "root = BTNode(15)\n",
        "n1 = BTNode(10)\n",
        "n2 = BTNode(25)\n",
        "n3 = BTNode(8)\n",
        "n5 = BTNode(12)\n",
        "n6 = BTNode(6)\n",
        "n7 = BTNode(9)\n",
        "n8 = BTNode(20)\n",
        "n9 = BTNode(30)\n",
        "n10 = BTNode(18)\n",
        "n11 = BTNode(22)\n",
        "\n",
        "root.left = n1\n",
        "root.right = n2\n",
        "n1.left = n3\n",
        "n2.left = n8\n",
        "n1.right = n5\n",
        "n2.right = n9\n",
        "n3.left = n6\n",
        "n8.left = n10\n",
        "n8.right = n11\n",
        "n3.right = n7\n",
        "\n",
        "a=LCA(root, 6, 12)\n",
        "b=LCA(root, 20,6)\n",
        "c=LCA(root, 18,22)\n",
        "d=LCA(root, 20,25)\n",
        "e=LCA(root, 10, 12)\n",
        "\n",
        "print(a)\n",
        "print(b)\n",
        "print(c)\n",
        "print(d)\n",
        "print(e)\n",
        "\n"
      ]
    },
    {
      "cell_type": "markdown",
      "metadata": {
        "id": "c-TBf3m0PrtK"
      },
      "source": [
        "Task 2"
      ]
    },
    {
      "cell_type": "code",
      "source": [
        "def find_path(root, key):\n",
        "  if root==None:\n",
        "    return \"No Path Found\"\n",
        "\n",
        "  result=getListed(root,key)\n",
        "  if result==\"No Path Found\":\n",
        "    return result\n",
        "  else:\n",
        "    return f\"Path: {result}\"\n",
        "\n",
        "\n",
        "def getListed(root,key,a=[]):\n",
        "  if root==None:\n",
        "    return \"No Path Found\"\n",
        "  a.append(root.elem)\n",
        "\n",
        "  if root.elem==key:\n",
        "    return a\n",
        "\n",
        "  if root.elem>key:\n",
        "    a=getListed(root.left,key,a)\n",
        "\n",
        "  else:\n",
        "    a=getListed(root.right,key,a)\n",
        "\n",
        "  return a\n",
        "\n",
        "\n",
        "\n",
        "#DRIVER CODE\n",
        "root=BTNode(30)\n",
        "n1 = BTNode(10)\n",
        "n2 = BTNode(3)\n",
        "n3 = BTNode(15)\n",
        "n5 = BTNode(40)\n",
        "n6 = BTNode(35)\n",
        "n7 = BTNode(55)\n",
        "\n",
        "root.left = n1\n",
        "root.right = n5\n",
        "n1.left = n2\n",
        "n5.left = n6\n",
        "n1.right = n3\n",
        "n5.right = n7\n",
        "\n",
        "print(find_path(root,15))\n",
        "#This should print [30,10,15]\n",
        "\n",
        "print(find_path(root,50))\n",
        "#This should print No Path Found"
      ],
      "metadata": {
        "id": "i6l-v7k1eE9A",
        "colab": {
          "base_uri": "https://localhost:8080/"
        },
        "outputId": "4417cb3d-a8a0-41c3-9286-a35e0b4f2613"
      },
      "execution_count": null,
      "outputs": [
        {
          "output_type": "stream",
          "name": "stdout",
          "text": [
            "Path: [30, 10, 15]\n",
            "No Path Found\n"
          ]
        }
      ]
    },
    {
      "cell_type": "markdown",
      "metadata": {
        "id": "7r3lH3aWPz2d"
      },
      "source": [
        "Task 3"
      ]
    },
    {
      "cell_type": "code",
      "source": [
        "def sum_of_leaves(root, sum):\n",
        "  if root==None:\n",
        "    return 0\n",
        "\n",
        "  if root.left==None and root.right==None:\n",
        "    sum+=root.elem\n",
        "\n",
        "  else:\n",
        "    return sum_of_leaves(root.left, sum) + sum_of_leaves(root.right, sum)\n",
        "\n",
        "\n",
        "  return sum\n",
        "\n",
        "\n",
        "tree_array = [None,30,10,40,3,15,35,55,2,None,None,None,None,36,None,None]\n",
        "root = tree_construction(tree_array)\n",
        "print(sum_of_leaves(root, 0))"
      ],
      "metadata": {
        "id": "5eT12zYb8zm7",
        "colab": {
          "base_uri": "https://localhost:8080/"
        },
        "outputId": "80bd8d42-44c1-434d-ed4a-cc32f83fb6fd"
      },
      "execution_count": null,
      "outputs": [
        {
          "output_type": "stream",
          "name": "stdout",
          "text": [
            "108\n"
          ]
        }
      ]
    },
    {
      "cell_type": "markdown",
      "metadata": {
        "id": "5KeA-BoC3uOo"
      },
      "source": [
        "Task 4"
      ]
    },
    {
      "cell_type": "code",
      "execution_count": null,
      "metadata": {
        "id": "zFwP64v4Pu6d",
        "colab": {
          "base_uri": "https://localhost:8080/"
        },
        "outputId": "db503729-0692-4efc-80db-f0988285edf1"
      },
      "outputs": [
        {
          "output_type": "stream",
          "name": "stdout",
          "text": [
            "---------------------Test#1---------------------\n",
            "Expected Output: 64\n",
            "You output     : 64\n",
            "---------------------Test#2---------------------\n",
            "Expected Output: 80\n",
            "You output     : 80\n"
          ]
        }
      ],
      "source": [
        "def mirror_sum(root):\n",
        "  if root==None:\n",
        "    return 0\n",
        "  sum=0\n",
        "\n",
        "  if root.left!=None and root.right!=None:\n",
        "    if root.left.left!=None and root.right.right!=None:\n",
        "      sum+=root.left.left.elem+root.right.right.elem\n",
        "    if root.left.right!=None and root.right.left!=None:\n",
        "      sum+=mirror_sum(root.left.right)+mirror_sum(root.right.left)\n",
        "  else:\n",
        "    return root.elem\n",
        "  sum+=root.left.elem+root.right.elem\n",
        "\n",
        "  return sum\n",
        "\n",
        "\n",
        "\n",
        "#DRIVER CODE\n",
        "\n",
        "print(\"---------------------Test#1---------------------\")\n",
        "#Example Tree 1\n",
        "root = BTNode(10)\n",
        "n1 = BTNode(6)\n",
        "n2 = BTNode(15)\n",
        "n3 = BTNode(3)\n",
        "n4 = BTNode(8)\n",
        "n5 = BTNode(12)\n",
        "n6 = BTNode(20)\n",
        "\n",
        "root.left = n1\n",
        "root.right = n2\n",
        "\n",
        "n1.left = n3\n",
        "n1.right = n4\n",
        "\n",
        "n2.left = n5\n",
        "n2.right = n6\n",
        "print(\"Expected Output: 64\")\n",
        "print(\"You output     :\",mirror_sum(root))\n",
        "\n",
        "print(\"---------------------Test#2---------------------\")\n",
        "\n",
        "#Example Tree 1\n",
        "root = BTNode(20)\n",
        "n1 = BTNode(15)\n",
        "n2 = BTNode(25)\n",
        "n3 = BTNode(10)\n",
        "n4 = BTNode(18)\n",
        "n5 = BTNode(5)\n",
        "n6 = BTNode(30)\n",
        "\n",
        "root.left = n1\n",
        "root.right = n2\n",
        "\n",
        "n1.left = n3\n",
        "n1.right = n4\n",
        "\n",
        "n3.left = n5\n",
        "n2.right = n6\n",
        "print(\"Expected Output: 80\")\n",
        "print(\"You output     :\",mirror_sum(root))"
      ]
    },
    {
      "cell_type": "code",
      "source": [
        "#LAB QUIZ\n",
        "def find_path(root, key):\n",
        "  path = 0\n",
        "  def helper(root, key, path):\n",
        "    if root is None:\n",
        "      return \"Path not found\"\n",
        "    path += root.elem\n",
        "    if root.elem == key:\n",
        "      return path\n",
        "\n",
        "    if key < root.elem:\n",
        "      return helper(root.left, key, path)\n",
        "    if key > root.elem:\n",
        "      return helper(root.right, key, path)\n",
        "  return helper(root, key, path)\n",
        "\n",
        "  #DRIVER CODE\n",
        "root=BTNode(30)\n",
        "n1 = BTNode(10)\n",
        "n2 = BTNode(3)\n",
        "n3 = BTNode(15)\n",
        "n5 = BTNode(40)\n",
        "n6 = BTNode(35)\n",
        "n7 = BTNode(55)\n",
        "\n",
        "root.left = n1\n",
        "root.right = n5\n",
        "n1.left = n2\n",
        "n5.left = n6\n",
        "n1.right = n3\n",
        "n5.right = n7\n",
        "\n",
        "print(find_path(root,15))\n",
        "#This should print [30,10,15]\n",
        "\n",
        "print(find_path(root,50))\n",
        "#This should print No Path Found"
      ],
      "metadata": {
        "colab": {
          "base_uri": "https://localhost:8080/"
        },
        "id": "59DMWmNQpuu2",
        "outputId": "d486d92c-3028-4e56-f8c5-15cce7795515"
      },
      "execution_count": null,
      "outputs": [
        {
          "output_type": "stream",
          "name": "stdout",
          "text": [
            "55\n",
            "Path not found\n"
          ]
        }
      ]
    }
  ],
  "metadata": {
    "colab": {
      "provenance": []
    },
    "kernelspec": {
      "display_name": "Python 3",
      "name": "python3"
    },
    "language_info": {
      "name": "python"
    }
  },
  "nbformat": 4,
  "nbformat_minor": 0
}