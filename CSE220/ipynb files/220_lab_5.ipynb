{
  "cells": [
    {
      "cell_type": "code",
      "execution_count": null,
      "metadata": {
        "id": "cbKbNdSbr7mS"
      },
      "outputs": [],
      "source": [
        "# You must run this cell to install dependency\n",
        "import numpy as np"
      ]
    },
    {
      "cell_type": "markdown",
      "metadata": {
        "id": "H5HlI-fPr7mU"
      },
      "source": [
        "### You need to complete driver code of task 1 on your own"
      ]
    },
    {
      "cell_type": "markdown",
      "metadata": {
        "id": "IEZc-gKqr7mV"
      },
      "source": [
        "### **Task-1:**"
      ]
    },
    {
      "cell_type": "code",
      "execution_count": null,
      "metadata": {
        "id": "As2T5-mfr7mW",
        "colab": {
          "base_uri": "https://localhost:8080/"
        },
        "outputId": "41d3b35b-5ad8-4ef4-abe8-02082bac332a"
      },
      "outputs": [
        {
          "output_type": "stream",
          "name": "stdout",
          "text": [
            "1\n",
            "2\n",
            "3\n",
            "4\n",
            "5\n",
            "6\n",
            "7\n",
            "8\n",
            "9\n",
            "10\n",
            "1\n",
            "2\n",
            "3\n",
            "4\n",
            "5\n",
            "6\n",
            "7\n",
            "8\n",
            "9\n",
            "10\n",
            "1\n",
            "2\n",
            "3\n",
            "4\n",
            "5\n",
            "6\n",
            "7\n",
            "8\n",
            "9\n",
            "10\n",
            "11\n",
            "12\n",
            "13\n",
            "14\n",
            "15\n",
            "16\n",
            "17\n",
            "18\n",
            "19\n",
            "20\n",
            "1\n",
            "2\n",
            "3\n",
            "4\n",
            "5\n",
            "6\n",
            "7\n",
            "8\n",
            "9\n",
            "10\n",
            "11\n",
            "12\n",
            "13\n",
            "14\n"
          ]
        }
      ],
      "source": [
        "def task1A():\n",
        "  i = 1\n",
        "  while i<=10:\n",
        "    print(i)\n",
        "    i+=1\n",
        "\n",
        "def task1B_recursive(num = 10):\n",
        "  if num == 1:\n",
        "    print(num)\n",
        "    return\n",
        "  task1B_recursive(num-1)\n",
        "  print(num)\n",
        "\n",
        "def task1C(n):\n",
        "  i = 1\n",
        "  while i <= n:\n",
        "    print(i)\n",
        "    i+=1\n",
        "\n",
        "def task1D_recursive(num):\n",
        "  if num == 1:\n",
        "    print(num)\n",
        "    return\n",
        "  task1B_recursive(num-1)\n",
        "  print(num)\n",
        "\n",
        "\n",
        "# Driver Code for Task-1\n",
        "task1A()\n",
        "task1B_recursive()\n",
        "task1C(20)\n",
        "task1D_recursive(14)"
      ]
    },
    {
      "cell_type": "markdown",
      "metadata": {
        "id": "Th6TC98cr7mW"
      },
      "source": [
        "### **Task-2:**"
      ]
    },
    {
      "cell_type": "code",
      "execution_count": null,
      "metadata": {
        "id": "rGB3UzICr7mW"
      },
      "outputs": [],
      "source": [
        "def task2A( arr ):\n",
        "  idx = 0\n",
        "  while idx < len(arr):\n",
        "    print(arr[idx],end = \" \")\n",
        "    idx +=1\n",
        "  print()\n",
        "\n",
        "def task2B_recursive( arr,idx = 0,i = 0):\n",
        "  idx = len(arr)\n",
        "  i+=1\n",
        "  idx-=i\n",
        "  if idx == 0:\n",
        "    print(arr[idx],end = \" \")\n",
        "    return\n",
        "  task2B_recursive(arr,idx,i)\n",
        "  print(arr[idx],end = \" \")\n",
        "def task2C( arr ):\n",
        "  sum = 0\n",
        "  for i in arr:\n",
        "    sum += i\n",
        "  return sum\n",
        "\n",
        "def task2D_recursive( arr , idx = -1):\n",
        "  idx+=1\n",
        "  if idx == len(arr)-1:\n",
        "    return arr[idx]\n",
        "  new = task2D_recursive(arr,idx)\n",
        "  return new+arr[idx]\n",
        "\n",
        "def task2E( arr):\n",
        "  even_sum = 0\n",
        "  odd_sum = 1\n",
        "  for i in arr:\n",
        "    if i%2 == 0:\n",
        "      even_sum+=i\n",
        "    else:\n",
        "      odd_sum*=i\n",
        "  return float(odd_sum-even_sum)\n",
        "def task2F_recursive( arr ,idx = -1,new = 0,odd_new =1,sum =0):\n",
        "  if idx == len(arr)-1:\n",
        "    return odd_new-new\n",
        "  idx += 1\n",
        "  if arr[idx]%2 == 0:\n",
        "    new+=arr[idx]\n",
        "    sum = task2F_recursive(arr,idx,new,odd_new)\n",
        "  else:\n",
        "    odd_new*=arr[idx]\n",
        "    sum = task2F_recursive(arr,idx,new,odd_new)\n",
        "  return sum"
      ]
    },
    {
      "cell_type": "code",
      "execution_count": null,
      "metadata": {
        "id": "4c0Kw9IPr7mX",
        "colab": {
          "base_uri": "https://localhost:8080/"
        },
        "outputId": "c6bb0a49-e753-4fe4-8fb8-54dd24cdb394"
      },
      "outputs": [
        {
          "output_type": "stream",
          "name": "stdout",
          "text": [
            "Task2A: \n",
            "Expected Output: 18 15  5 17 15 11\n",
            "Your Output    : 18 15 5 17 15 11 \n",
            "\n",
            "\n",
            "Task2B_recursive: \n",
            "Expected Output:  18 15  5 17 15 11\n",
            "Your Output    : 18 15 5 17 15 11 \n",
            "\n",
            "Task2C: \n",
            "The Array:  [9 6 2 1 5 9]\n",
            "Expected Output:  32\n",
            "Your Output    :  32\n",
            "\n",
            "Task2D_recursive: \n",
            "The Array:  [9 6 2 1 5 9]\n",
            "Expected Output:  32\n",
            "Your Output    :  32\n",
            "\n",
            "Task2E: \n",
            "The Array:  [2 2 3 5 5]\n",
            "Expected Output:  71\n",
            "Your Output    :  71.0\n",
            "\n",
            "Task2F_recursive: \n",
            "The Array:  [2 2 3 5 5]\n",
            "Expected Output:  71\n",
            "Your Output    :  71\n"
          ]
        }
      ],
      "source": [
        "# Driver Code for Task-2\n",
        "# task2A\n",
        "print(\"Task2A: \")\n",
        "arr = np.random.randint(1, 20, size=6, dtype=int)\n",
        "print( \"Expected Output: \"+str(arr)[1:-1] )\n",
        "print( \"Your Output    : \",end=\"\" )\n",
        "task2A( arr )\n",
        "print()\n",
        "\n",
        "# task2B_recursive\n",
        "print(\"\\nTask2B_recursive: \")\n",
        "print( \"Expected Output: \",str(arr)[1:-1] )\n",
        "print( \"Your Output    : \",end=\"\" )\n",
        "task2B_recursive( arr )\n",
        "print()\n",
        "\n",
        "# task2C\n",
        "print(\"\\nTask2C: \")\n",
        "arr = np.random.randint(1, 10, size=6, dtype=int)\n",
        "print(\"The Array: \",arr)\n",
        "print( \"Expected Output: \",sum(arr) )\n",
        "print( \"Your Output    : \",task2C(arr) )\n",
        "\n",
        "# task2D_recursive\n",
        "print(\"\\nTask2D_recursive: \")\n",
        "print(\"The Array: \",arr)\n",
        "print( \"Expected Output: \",sum(arr) )\n",
        "print( \"Your Output    : \",task2D_recursive( arr ) )\n",
        "\n",
        "# task2E\n",
        "print(\"\\nTask2E: \")\n",
        "arr = np.random.randint(1, 8, size=5, dtype=int)\n",
        "print(\"The Array: \",arr)\n",
        "print( \"Expected Output: \",np.prod([e for e in arr if e%2!=0])-np.sum([e for e in arr if e%2==0]) )\n",
        "print( \"Your Output    : \",task2E( arr ) )\n",
        "\n",
        "\n",
        "# task2F\n",
        "print(\"\\nTask2F_recursive: \")\n",
        "print(\"The Array: \",arr)\n",
        "print( \"Expected Output: \",int(np.prod([e for e in arr if e%2!=0])-np.sum([e for e in arr if e%2==0])) )\n",
        "print( \"Your Output    : \",task2F_recursive( arr ))"
      ]
    },
    {
      "cell_type": "markdown",
      "metadata": {
        "id": "k1c18Sb2r7mX"
      },
      "source": [
        "### **Helper Codes for following tasks**"
      ]
    },
    {
      "cell_type": "code",
      "execution_count": null,
      "metadata": {
        "id": "9N5TpW_Br7mY"
      },
      "outputs": [],
      "source": [
        "class Node:\n",
        "  def __init__(self, value=None, next = None):\n",
        "    self.elem = value\n",
        "    self.next = next"
      ]
    },
    {
      "cell_type": "code",
      "execution_count": null,
      "metadata": {
        "id": "Twy348uGr7mY"
      },
      "outputs": [],
      "source": [
        "def showLL(head):\n",
        "  if head!=None:\n",
        "    n = head\n",
        "    while n!=None:\n",
        "        print(n.elem, end=' -> ')\n",
        "        n = n.next\n",
        "    print()\n",
        "\n",
        "def arr2LL(arr):\n",
        "  head = Node(arr[0])\n",
        "  n = head\n",
        "  for i in range(1,len(arr)):\n",
        "      newNode = Node(arr[i])\n",
        "      n.next = newNode\n",
        "      n = newNode\n",
        "  tail = n\n",
        "  return head"
      ]
    },
    {
      "cell_type": "markdown",
      "metadata": {
        "id": "fSrMAFsJr7mY"
      },
      "source": [
        "### **Task-3:**"
      ]
    },
    {
      "cell_type": "code",
      "execution_count": null,
      "metadata": {
        "id": "JxnEj_s3r7mY"
      },
      "outputs": [],
      "source": [
        "def task3A( head ):\n",
        "  while head!= None:\n",
        "    print(head.elem,end = \" \")\n",
        "    head = head.next\n",
        "\n",
        "\n",
        "def task3B_recursive( head ):\n",
        "    if head.next  == None:\n",
        "      return\n",
        "    print(head.elem,end = \" \")\n",
        "    task3B_recursive( head.next )\n",
        "\n",
        "def task3C( head ):\n",
        "    sum = 0\n",
        "    while head != None:\n",
        "      sum+= head.elem\n",
        "      head = head.next\n",
        "    return sum\n",
        "\n",
        "def task3D_recursive( head):\n",
        "    if head.next == None:\n",
        "      return head.elem\n",
        "    new = task3D_recursive( head.next)\n",
        "    return new+head.elem\n",
        "\n",
        "def task3E( head ):\n",
        "    new = 1\n",
        "    odd_new = 0\n",
        "    while head != None:\n",
        "      if head.elem %2 == 0:\n",
        "        new *= head.elem\n",
        "      else:\n",
        "        odd_new += head.elem\n",
        "      head = head.next\n",
        "    return odd_new-new\n",
        "\n",
        "def task3F_recursive( head,new=1,odd_new=0 ):\n",
        "    if head == None:\n",
        "      return odd_new-new\n",
        "    if head.elem%2 == 0:\n",
        "      new*=head.elem\n",
        "      head = head.next\n",
        "      sum = task3F_recursive(head,new,odd_new)\n",
        "    else:\n",
        "      odd_new+=head.elem\n",
        "      head = head.next\n",
        "      sum = task3F_recursive(head,new,odd_new)\n",
        "    return sum\n"
      ]
    },
    {
      "cell_type": "code",
      "execution_count": null,
      "metadata": {
        "id": "qJJ9p5dCr7mY"
      },
      "outputs": [],
      "source": [
        "# Driver Code for Task-3\n",
        "arr = np.random.randint(1, 20, size=6, dtype=int)\n",
        "\n",
        "# task3A\n",
        "print(\"task3A: \")\n",
        "print( \"Expected Output: \"+str(arr)[1:-1] )\n",
        "print( \"Your Output    : \",end=\"\" )\n",
        "head = arr2LL(arr)\n",
        "task3A( head )\n",
        "print()\n",
        "\n",
        "# task3B_recursive\n",
        "print(\"\\ntask3B_recursive: \")\n",
        "print( \"Expected Output: \",str(arr)[1:-1] )\n",
        "print( \"Your Output    : \",end=\"\" )\n",
        "head = arr2LL(arr)\n",
        "task3B_recursive( head )\n",
        "print()\n",
        "\n",
        "#--------------------------------------------------------\n",
        "\n",
        "arr = np.random.randint(1, 10, size=6, dtype=int)\n",
        "\n",
        "# task3C\n",
        "print(\"\\ntask3C: \")\n",
        "print(\"The LinkedList: \",end=\"\")\n",
        "head = arr2LL(arr)\n",
        "showLL(head)\n",
        "print( \"Expected Output: \",sum(arr) )\n",
        "print( \"Your Output    : \",task3C( head ) )\n",
        "\n",
        "# task3D_recursive\n",
        "print(\"\\ntask3D_recursive: \")\n",
        "print(\"The LinkedList: \",end=\"\")\n",
        "head = arr2LL(arr)\n",
        "showLL(head)\n",
        "print( \"Expected Output: \",sum(arr) )\n",
        "print( \"Your Output    : \",task3D_recursive( head ) )\n",
        "\n",
        "#--------------------------------------------------------\n",
        "\n",
        "arr = np.random.randint(1, 8, size=5, dtype=int)\n",
        "\n",
        "# task3E\n",
        "print(\"\\ntask3E: \")\n",
        "print(\"The LinkedList: \",end=\"\")\n",
        "head = arr2LL(arr)\n",
        "showLL(head)\n",
        "print( \"Expected Output: \",np.sum([e for e in arr if e%2!=0])-np.prod([e for e in arr if e%2==0]) )\n",
        "print( \"Your Output    : \",task3E( head ) )\n",
        "\n",
        "#--------------------------------------------------------\n",
        "\n",
        "# task3F\n",
        "print(\"\\ntask3F_recursive: \")\n",
        "print(\"The LinkedList: \",end=\"\")\n",
        "head = arr2LL(arr)\n",
        "showLL(head)\n",
        "print( \"Expected Output: \",np.sum([e for e in arr if e%2!=0])-np.prod([e for e in arr if e%2==0]) )\n",
        "print( \"Your Output    : \",task3F_recursive( head ) )"
      ]
    },
    {
      "cell_type": "markdown",
      "metadata": {
        "id": "McNxtapAr7mZ"
      },
      "source": [
        "### **Task-4:**"
      ]
    },
    {
      "cell_type": "code",
      "execution_count": null,
      "metadata": {
        "id": "_QMXJfojr7mZ"
      },
      "outputs": [],
      "source": [
        "from os import curdir\n",
        "def task4A_recursive( head ):\n",
        "    cur = head\n",
        "    if cur.next == None:\n",
        "      print(cur.elem,end= \" \")\n",
        "      return\n",
        "    task4A_recursive( cur.next )\n",
        "    print(cur.elem,end= \" \")\n",
        "\n",
        "def task4B_recursive( head,prev = None):\n",
        "    cur = head\n",
        "    front = cur.next\n",
        "    if cur.next == None:\n",
        "      cur.next = prev\n",
        "      head = cur\n",
        "      return head\n",
        "    else:\n",
        "      cur.next = prev\n",
        "      prev = cur\n",
        "      cur = front\n",
        "      front = front.next\n",
        "    cur = task4B_recursive( cur,prev )\n",
        "    return cur"
      ]
    },
    {
      "cell_type": "code",
      "execution_count": null,
      "metadata": {
        "id": "evKRVkwrr7mZ"
      },
      "outputs": [],
      "source": [
        "# Driver Code for Task-4\n",
        "# task4A_recursive\n",
        "arr = np.random.randint(1, 20, size=6, dtype=int)\n",
        "\n",
        "print(\"task4A_recursive: \")\n",
        "print(\"The LinkedList: \",end=\"\")\n",
        "head = arr2LL(arr)\n",
        "showLL(head)\n",
        "print( \"Expected Output: \",str(arr[::-1])[1:-1] )\n",
        "print( \"Your Output    : \",end=\"\" )\n",
        "task4A_recursive( head )\n",
        "print()\n",
        "\n",
        "#--------------------------------------------------------\n",
        "\n",
        "# task4B_recursive\n",
        "print(\"\\ntask4B_recursive: \")\n",
        "print(\"The LinkedList: \",end=\"\")\n",
        "head = arr2LL(arr)\n",
        "showLL(head)\n",
        "print( \"Expected Output: \",str(arr[::-1])[1:-1] )\n",
        "print( \"Your Output    : \",end=\"\" )\n",
        "head = task4B_recursive( head )\n",
        "showLL(head)\n",
        "print()"
      ]
    },
    {
      "cell_type": "markdown",
      "metadata": {
        "id": "8fpRIP_Dr7mZ"
      },
      "source": [
        "### **Task-5:**"
      ]
    },
    {
      "cell_type": "code",
      "execution_count": null,
      "metadata": {
        "id": "FsnxPqVLr7mZ"
      },
      "outputs": [],
      "source": [
        "from types import new_class\n",
        "def findMax_recursive( head, max = 0, new = 0 ):\n",
        "    max = head.elem\n",
        "    if head.next == None:\n",
        "      return max\n",
        "    new = findMax_recursive(head.next)\n",
        "    if max> new:\n",
        "      return max\n",
        "    else:\n",
        "      return new\n",
        "def findMax_recursive2( head,  new = 0 ):\n",
        "    if head.next == None:\n",
        "      return head\n",
        "    new = findMax_recursive2(head.next)\n",
        "    if head.elem< new.elem:\n",
        "      return head\n",
        "    else:\n",
        "      return new\n",
        "def sortLL_recursive( head ):\n",
        "    if head.next == None:\n",
        "      return head\n",
        "    mac_val = findMax_recursive2( head.next)\n",
        "    if head.elem>=mac_val.elem:\n",
        "        head.elem,mac_val.elem = mac_val.elem,head.elem\n",
        "    sortLL_recursive( head.next )\n",
        "    return head\n",
        "def finDup(head,cur,i = 0):\n",
        "  count  = \"\"\n",
        "  while head != None:\n",
        "    if cur.elem == head.elem and cur != head:\n",
        "      if count!= \"\":\n",
        "        count += \", \"+str(i)\n",
        "      else:\n",
        "        count += str(i)\n",
        "    head = head.next\n",
        "    i += 1\n",
        "  if count != \"\":\n",
        "    return count\n",
        "  else:\n",
        "    return \"No duplicate\"\n",
        "\n",
        "def findDup( head,cur = None, i = -1 ):\n",
        "    i+=1\n",
        "    if cur == None:\n",
        "      cur = head\n",
        "    if cur.next == None:\n",
        "      print(f\"{cur.elem}\"+\": \"f\"{finDup(head,cur,i)}\")\n",
        "      return cur\n",
        "    print(f\"{cur.elem}\"+\": \"f\"{finDup(head,cur,i)}\")\n",
        "    findDup( head,cur.next,-1 )\n",
        "    return head"
      ]
    },
    {
      "cell_type": "code",
      "execution_count": null,
      "metadata": {
        "id": "XvLyVSYJr7mZ"
      },
      "outputs": [],
      "source": [
        "# Driver Code for Task-5\n",
        "arr = np.random.randint(1, 20, size=6, dtype=int)\n",
        "\n",
        "# task5A\n",
        "print(\"findMax_recursive: \")\n",
        "print(\"The LinkedList: \",end=\"\")\n",
        "head = arr2LL(arr)\n",
        "showLL(head)\n",
        "print( \"Expected Output: \",np.max(arr) )\n",
        "print( \"Your Output    : \",findMax_recursive(head) )\n",
        "\n",
        "#--------------------------------------------------------\n",
        "\n",
        "# task5B\n",
        "print(\"\\nsortLL_recursive: \")\n",
        "print(\"The LinkedList: \",end=\"\")\n",
        "head = arr2LL(arr)\n",
        "showLL(head)\n",
        "print( \"Expected Output: \",str(np.sort(arr))[1:-1] )\n",
        "print( \"Your Output    : \",end=\"\" )\n",
        "head = sortLL_recursive( head )\n",
        "showLL(head)\n",
        "print()\n",
        "\n",
        "#--------------------------------------------------------\n",
        "\n",
        "# task5C\n",
        "print(\"\\nfindDup: \")\n",
        "print(\"The LinkedList: \",end=\"\")\n",
        "arr = np.array([10, 22, 13, 20, 22, 23, 10, 22])\n",
        "head = arr2LL( arr )\n",
        "showLL(head)\n",
        "print( \"\\nExpected Output: \" )\n",
        "print(\"10: 6\\n22: 4, 7\\n13: No Duplicate\\n20: No Duplicate\\n22: 1, 7\\n23: No Duplicate\\n10: 0\\n22: 1, 4\\n\")\n",
        "print( \"Your Output    : \",end=\"\\n\" )\n",
        "findDup( head )\n",
        "print()"
      ]
    }
  ],
  "metadata": {
    "colab": {
      "provenance": []
    },
    "kernelspec": {
      "display_name": "base",
      "language": "python",
      "name": "python3"
    },
    "language_info": {
      "codemirror_mode": {
        "name": "ipython",
        "version": 3
      },
      "file_extension": ".py",
      "mimetype": "text/x-python",
      "name": "python",
      "nbconvert_exporter": "python",
      "pygments_lexer": "ipython3",
      "version": "3.12.7"
    }
  },
  "nbformat": 4,
  "nbformat_minor": 0
}