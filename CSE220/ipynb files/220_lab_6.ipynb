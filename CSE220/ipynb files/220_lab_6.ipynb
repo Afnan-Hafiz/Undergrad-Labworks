{
  "cells": [
    {
      "cell_type": "code",
      "execution_count": null,
      "metadata": {
        "id": "D6vC520OPeTa"
      },
      "outputs": [],
      "source": [
        "class BTNode:\n",
        "  def __init__(self, elem):\n",
        "    self.elem = elem\n",
        "    self.right = None\n",
        "    self.left = None"
      ]
    },
    {
      "cell_type": "code",
      "execution_count": null,
      "metadata": {
        "id": "UDTKlm4-PfNM"
      },
      "outputs": [],
      "source": [
        "def inorder(root):\n",
        "  if root == None:\n",
        "    return\n",
        "\n",
        "  inorder(root.left)\n",
        "  print(root.elem, end = ' ')\n",
        "  inorder(root.right)"
      ]
    },
    {
      "cell_type": "code",
      "execution_count": null,
      "metadata": {
        "id": "Rtc22SPzPgzM",
        "colab": {
          "base_uri": "https://localhost:8080/"
        },
        "outputId": "f33d2d8e-6909-462d-eba6-620fb83afdcb"
      },
      "outputs": [
        {
          "output_type": "stream",
          "name": "stdout",
          "text": [
            "H D B E A I F J C G k "
          ]
        }
      ],
      "source": [
        "def tree_construction(arr, i = 1):\n",
        "  if i>=len(arr) or arr[i] == None:\n",
        "    return None\n",
        "  p = BTNode(arr[i])\n",
        "  p.left = tree_construction(arr, 2*i)\n",
        "  p.right = tree_construction(arr, 2*i+1)\n",
        "  return p\n",
        "\n",
        "\n",
        "root2 = tree_construction([None, 'A', 'B', 'C', 'D', 'E', 'F', 'G', 'H', None, None, None, 'I', 'J', None, 'k'])\n",
        "inorder(root2)"
      ]
    },
    {
      "cell_type": "markdown",
      "metadata": {
        "id": "S2nNCJNhPqGq"
      },
      "source": [
        "Task 1"
      ]
    },
    {
      "cell_type": "code",
      "execution_count": null,
      "metadata": {
        "id": "zbBHU3FoPieb",
        "colab": {
          "base_uri": "https://localhost:8080/"
        },
        "outputId": "39ca5a62-33f9-478c-a9d4-8c7d658ba7d5"
      },
      "outputs": [
        {
          "output_type": "stream",
          "name": "stdout",
          "text": [
            "Given Tree Inorder Traversal:  40 20 60 10 30 \n",
            "Mirrored Tree Inorder Traversal:  30 10 60 20 40 "
          ]
        }
      ],
      "source": [
        "def convert_mirror(root):\n",
        "  if root!=None:\n",
        "    root.left, root.right = root.right, root.left\n",
        "    convert_mirror(root.left)\n",
        "    convert_mirror(root.right)\n",
        "    return root\n",
        "\n",
        "\n",
        "#DRIVER CODE\n",
        "root = BTNode(10)\n",
        "n1 = BTNode(20)\n",
        "n2 = BTNode(30)\n",
        "n3 = BTNode(40)\n",
        "n4 = BTNode(60)\n",
        "\n",
        "root.left = n1\n",
        "root.right = n2\n",
        "\n",
        "n1.left = n3\n",
        "n1.right = n4\n",
        "\n",
        "print('Given Tree Inorder Traversal: ', end = ' ')\n",
        "inorder(root) #Given Tree Inorder Traversal:  40 20 60 10 30\n",
        "print()\n",
        "\n",
        "root2 = convert_mirror(root)\n",
        "print('Mirrored Tree Inorder Traversal: ', end = ' ')\n",
        "inorder(root2) #Mirrored Tree Inorder Traversal:  30 10 60 20 40"
      ]
    },
    {
      "cell_type": "markdown",
      "metadata": {
        "id": "c-TBf3m0PrtK"
      },
      "source": [
        "Task 2"
      ]
    },
    {
      "cell_type": "code",
      "execution_count": null,
      "metadata": {
        "id": "lsuxinlBPmji",
        "colab": {
          "base_uri": "https://localhost:8080/"
        },
        "outputId": "75516391-4cb5-43e1-dba5-1e413219e743"
      },
      "outputs": [
        {
          "output_type": "stream",
          "name": "stdout",
          "text": [
            "Given Tree Inorder Traversal:  3 9 -5 4 2 7 \n",
            "Level Wise Smallest Value:  {0: 4, 1: 2, 2: -5}\n"
          ]
        }
      ],
      "source": [
        "def smallest_level(root, level = {}, i = 0):\n",
        "  if root==None:\n",
        "    return\n",
        "\n",
        "  else:\n",
        "    if i in level.keys():\n",
        "      if root.elem<level[i]:\n",
        "        level[i]=root.elem\n",
        "    else:\n",
        "      level[i]=root.elem\n",
        "    i+=1\n",
        "\n",
        "  smallest_level(root.left,level,i)\n",
        "  smallest_level(root.right,level,i)\n",
        "  return level\n",
        "\n",
        "\n",
        "#DRIVER CODE\n",
        "root = tree_construction([None, 4,9,2,3,-5,None,7])\n",
        "print('Given Tree Inorder Traversal: ', end = ' ')\n",
        "inorder(root) #Given Tree Inorder Traversal:  3 9 5 4 2 7\n",
        "print()\n",
        "print('Level Wise Smallest Value: ', end = ' ')\n",
        "print(smallest_level(root)) #Level Wise Smallest Value:  {0: 4, 1: 2, 2: -5}"
      ]
    },
    {
      "cell_type": "markdown",
      "metadata": {
        "id": "t3IGW4OaP8Vy"
      },
      "source": [
        "Task 3"
      ]
    },
    {
      "cell_type": "code",
      "execution_count": null,
      "metadata": {
        "id": "m4E9_E8PThk6",
        "colab": {
          "base_uri": "https://localhost:8080/"
        },
        "outputId": "fe0e5a4b-3eb5-4ecf-a62a-ca69dc97cb39"
      },
      "outputs": [
        {
          "output_type": "stream",
          "name": "stdout",
          "text": [
            "15\n"
          ]
        }
      ],
      "source": [
        "def sumTree(root):\n",
        "  if root==None:\n",
        "    return\n",
        "  else:\n",
        "    sum=0\n",
        "    level=findlevel(root)\n",
        "    for i in level.keys():\n",
        "      if i==0:\n",
        "        sum+=level[i]\n",
        "      else:\n",
        "        sum+=level[i]%i\n",
        "\n",
        "  return sum\n",
        "\n",
        "def findlevel(root, level = {}, i = 0):\n",
        "  if root!=None:\n",
        "    if i in level.keys():\n",
        "      level[i]+=root.elem%i\n",
        "    else:\n",
        "      level[i]=root.elem\n",
        "    i+=1\n",
        "\n",
        "    findlevel(root.left, level, i)\n",
        "    findlevel(root.right, level, i)\n",
        "\n",
        "  return level\n",
        "\n",
        "\n",
        "\n",
        "#Driver Code\n",
        "#Input 1\n",
        "root1 = BTNode(9)\n",
        "node2 = BTNode(4)\n",
        "node3 = BTNode(5)\n",
        "node4 = BTNode(18)\n",
        "node5 = BTNode(14)\n",
        "node6 = BTNode(3)\n",
        "node7 = BTNode(54)\n",
        "node8 = BTNode(12)\n",
        "node9 = BTNode(8)\n",
        "node10 = BTNode(91)\n",
        "node11 = BTNode(56)\n",
        "\n",
        "root1.left = node2\n",
        "root1.right = node3\n",
        "\n",
        "node2.left = node4\n",
        "\n",
        "node3.left = node5\n",
        "node3.right = node6\n",
        "\n",
        "node4.left = node7\n",
        "node4.right = node8\n",
        "\n",
        "node5.left = node9\n",
        "\n",
        "node8.left = node10\n",
        "node8.right = node11\n",
        "\n",
        "print(sumTree(root1)) #This should print 15"
      ]
    },
    {
      "cell_type": "markdown",
      "source": [
        "Task 4\n"
      ],
      "metadata": {
        "id": "8GJeWub8Ki1X"
      }
    },
    {
      "cell_type": "code",
      "source": [
        "def swap_child(root, level, M):\n",
        "  if root==None:\n",
        "    return\n",
        "  else:\n",
        "    if level<M:\n",
        "      root.left,root.right=root.right, root.left\n",
        "      level+=1\n",
        "\n",
        "      swap_child(root.left,level, M)\n",
        "      swap_child(root.right,level, M)\n",
        "  return root\n",
        "\n",
        "\n",
        "#Driver Code\n",
        "root=BTNode('A')\n",
        "node1 = BTNode('B')\n",
        "node2 = BTNode('C')\n",
        "node3 = BTNode('D')\n",
        "node4 = BTNode('E')\n",
        "node5 = BTNode('F')\n",
        "node6 = BTNode('G')\n",
        "node7 = BTNode('H')\n",
        "node8 = BTNode('I')\n",
        "node9 = BTNode('J')\n",
        "#for A\n",
        "root.left = node1\n",
        "root.right = node2\n",
        "#for B\n",
        "node1.left = node3\n",
        "node1.right = node4\n",
        "#for C\n",
        "node2.right = node5\n",
        "#for D\n",
        "node3.left = node6\n",
        "node3.right = node7\n",
        "#for E\n",
        "node4.left = node8\n",
        "#for F\n",
        "node5.left = node9\n",
        "\n",
        "print('Given Tree Inorder Traversal: ', end = ' ')\n",
        "inorder(root)   #Given Tree Inorder Traversal: G D H B I E A C J F\n",
        "print()\n",
        "\n",
        "root2 = swap_child(root, 0, 2)\n",
        "print('Swapped Tree Inorder Traversal: ', end = ' ')\n",
        "inorder(root2)  #Swapped Tree Inorder Traversal: J F C A I E B G D H"
      ],
      "metadata": {
        "id": "0Rb_m6FRKktN"
      },
      "execution_count": null,
      "outputs": []
    },
    {
      "cell_type": "markdown",
      "source": [
        "Task 5"
      ],
      "metadata": {
        "id": "VrHklDOEKlHf"
      }
    },
    {
      "cell_type": "code",
      "source": [
        "def subtract_summation(root):\n",
        "  if root==None:\n",
        "    return\n",
        "  else:\n",
        "    diff=0\n",
        "    diff=leftsummation(root.left)-rightsummation(root.right)\n",
        "  return diff\n",
        "\n",
        "def leftsummation(root):\n",
        "  if root==None:\n",
        "    return 0\n",
        "  else:\n",
        "   return root.elem + leftsummation(root.left) + leftsummation(root.right)\n",
        "\n",
        "def rightsummation(root):\n",
        "  if root==None:\n",
        "    return 0\n",
        "  else:\n",
        "   return root.elem + rightsummation(root.left) + rightsummation(root.right)\n",
        "\n",
        "\n",
        "#Driver Code\n",
        "root=BTNode(71)\n",
        "tree_array = [None, 71, 27, 62, 80, 75, 41, 3, 87, 56, None, None, None, None, 19, 89]\n",
        "root = tree_construction(tree_array)\n",
        "print(subtract_summation(root)) #This should print 111"
      ],
      "metadata": {
        "id": "dMXJ2qxkNn_F"
      },
      "execution_count": null,
      "outputs": []
    },
    {
      "cell_type": "markdown",
      "metadata": {
        "id": "SBD-0xoZP_ni"
      },
      "source": [
        "Task 6"
      ]
    },
    {
      "cell_type": "code",
      "source": [
        "def level_sum(root):\n",
        "  if root==None:\n",
        "    return\n",
        "  else:\n",
        "    level=findlevel(root)\n",
        "    output=0\n",
        "    for i in level.keys():\n",
        "      if i%2==0:\n",
        "        output-=level[i]\n",
        "      else:\n",
        "        output+=level[i]\n",
        "  return output\n",
        "\n",
        "\n",
        "def findlevel(root, level = {}, i = 0):\n",
        "  if root!=None:\n",
        "    if i in level.keys():\n",
        "      level[i]+=root.elem\n",
        "    else:\n",
        "      level[i]=root.elem\n",
        "    i+=1\n",
        "\n",
        "    findlevel(root.left, level, i)\n",
        "    findlevel(root.right, level, i)\n",
        "\n",
        "  return level\n",
        "\n",
        "\n",
        "\n",
        "\n",
        "#DRIVER CODE\n",
        "root = BTNode(1)\n",
        "n2 = BTNode(2)\n",
        "n3 = BTNode(3)\n",
        "n4 = BTNode(4)\n",
        "n5 = BTNode(5)\n",
        "n6 = BTNode(6)\n",
        "n7 = BTNode(7)\n",
        "n8 = BTNode(8)\n",
        "root.left = n2\n",
        "root.right = n3\n",
        "\n",
        "n2.left = n4\n",
        "n3.left = n5\n",
        "n3.right = n6\n",
        "\n",
        "n5.left = n7\n",
        "n5.right = n8\n",
        "\n",
        "\n",
        "print(level_sum(root)) #This should print 4"
      ],
      "metadata": {
        "id": "U_LYhaRIxZCb",
        "colab": {
          "base_uri": "https://localhost:8080/"
        },
        "outputId": "d763335e-6361-4d5c-8900-4a84c3a8d598"
      },
      "execution_count": null,
      "outputs": [
        {
          "output_type": "stream",
          "name": "stdout",
          "text": [
            "4\n"
          ]
        }
      ]
    }
  ],
  "metadata": {
    "colab": {
      "provenance": []
    },
    "kernelspec": {
      "display_name": "Python 3",
      "name": "python3"
    },
    "language_info": {
      "name": "python"
    }
  },
  "nbformat": 4,
  "nbformat_minor": 0
}